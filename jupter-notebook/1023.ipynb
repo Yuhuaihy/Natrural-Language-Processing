{
 "cells": [
  {
   "cell_type": "markdown",
   "metadata": {},
   "source": [
    "# 1023 11-corpus"
   ]
  },
  {
   "cell_type": "code",
   "execution_count": 1,
   "metadata": {},
   "outputs": [
    {
     "data": {
      "text/plain": [
       "'sfh'"
      ]
     },
     "execution_count": 1,
     "metadata": {},
     "output_type": "execute_result"
    }
   ],
   "source": [
    "s = 'sdfghj'\n",
    "s[::2]"
   ]
  },
  {
   "cell_type": "code",
   "execution_count": 6,
   "metadata": {},
   "outputs": [
    {
     "data": {
      "text/plain": [
       "''"
      ]
     },
     "execution_count": 6,
     "metadata": {},
     "output_type": "execute_result"
    }
   ],
   "source": [
    "s[-1:0]"
   ]
  },
  {
   "cell_type": "code",
   "execution_count": 7,
   "metadata": {},
   "outputs": [
    {
     "data": {
      "text/plain": [
       "'jhgfds'"
      ]
     },
     "execution_count": 7,
     "metadata": {},
     "output_type": "execute_result"
    }
   ],
   "source": [
    "s[::-1]"
   ]
  },
  {
   "cell_type": "code",
   "execution_count": 8,
   "metadata": {},
   "outputs": [
    {
     "data": {
      "text/plain": [
       "<reversed at 0x1079abef0>"
      ]
     },
     "execution_count": 8,
     "metadata": {},
     "output_type": "execute_result"
    }
   ],
   "source": [
    "reversed(s)"
   ]
  },
  {
   "cell_type": "code",
   "execution_count": 9,
   "metadata": {},
   "outputs": [
    {
     "data": {
      "text/plain": [
       "'sdfghj'"
      ]
     },
     "execution_count": 9,
     "metadata": {},
     "output_type": "execute_result"
    }
   ],
   "source": [
    "s"
   ]
  },
  {
   "cell_type": "code",
   "execution_count": 10,
   "metadata": {},
   "outputs": [
    {
     "data": {
      "text/plain": [
       "0"
      ]
     },
     "execution_count": 10,
     "metadata": {},
     "output_type": "execute_result"
    }
   ],
   "source": [
    "import collections as cl\n",
    "d = cl.defaultdict(int)\n",
    "d[0]"
   ]
  },
  {
   "cell_type": "code",
   "execution_count": 11,
   "metadata": {},
   "outputs": [
    {
     "data": {
      "text/plain": [
       "{'s': 3, 'd': 3, 'f': 2, 'a': 2, 'g': 1, 'h': 1}"
      ]
     },
     "execution_count": 11,
     "metadata": {},
     "output_type": "execute_result"
    }
   ],
   "source": [
    "d2= {}\n",
    "d2.update(cl.Counter('sdfagsdfhasd'))\n",
    "d2"
   ]
  },
  {
   "cell_type": "markdown",
   "metadata": {},
   "source": [
    "# list comprehensions"
   ]
  },
  {
   "cell_type": "code",
   "execution_count": 12,
   "metadata": {},
   "outputs": [
    {
     "data": {
      "text/plain": [
       "[5, 6, 7]"
      ]
     },
     "execution_count": 12,
     "metadata": {},
     "output_type": "execute_result"
    }
   ],
   "source": [
    "l = [1,5,2,6,7]\n",
    "list(filter(lambda x: x>4, l))"
   ]
  },
  {
   "cell_type": "markdown",
   "metadata": {},
   "source": [
    "for e1 in l2:\n",
    "    for e2 in l2:\n",
    "        expre:\n",
    "            l.append((e1,e2))\n",
    "            "
   ]
  },
  {
   "cell_type": "code",
   "execution_count": 13,
   "metadata": {},
   "outputs": [
    {
     "data": {
      "text/plain": [
       "[[(1, 'a'), (5, 'a'), (2, 'a'), (6, 'a'), (7, 'a')],\n",
       " [(1, 's'), (5, 's'), (2, 's'), (6, 's'), (7, 's')],\n",
       " [(1, 'f'), (5, 'f'), (2, 'f'), (6, 'f'), (7, 'f')],\n",
       " [(1, 'g'), (5, 'g'), (2, 'g'), (6, 'g'), (7, 'g')],\n",
       " [(1, 'h'), (5, 'h'), (2, 'h'), (6, 'h'), (7, 'h')],\n",
       " [(1, 'g'), (5, 'g'), (2, 'g'), (6, 'g'), (7, 'g')],\n",
       " [(1, 'f'), (5, 'f'), (2, 'f'), (6, 'f'), (7, 'f')]]"
      ]
     },
     "execution_count": 13,
     "metadata": {},
     "output_type": "execute_result"
    }
   ],
   "source": [
    "l2 = list('asfghgf')\n",
    "[[(x,y) for x in l] for y in l2]"
   ]
  },
  {
   "cell_type": "code",
   "execution_count": 14,
   "metadata": {},
   "outputs": [
    {
     "data": {
      "text/plain": [
       "[(1, 'a'),\n",
       " (1, 's'),\n",
       " (1, 'f'),\n",
       " (1, 'g'),\n",
       " (1, 'h'),\n",
       " (1, 'g'),\n",
       " (1, 'f'),\n",
       " (5, 'a'),\n",
       " (5, 's'),\n",
       " (5, 'f'),\n",
       " (5, 'g'),\n",
       " (5, 'h'),\n",
       " (5, 'g'),\n",
       " (5, 'f'),\n",
       " (2, 'a'),\n",
       " (2, 's'),\n",
       " (2, 'f'),\n",
       " (2, 'g'),\n",
       " (2, 'h'),\n",
       " (2, 'g'),\n",
       " (2, 'f'),\n",
       " (6, 'a'),\n",
       " (6, 's'),\n",
       " (6, 'f'),\n",
       " (6, 'g'),\n",
       " (6, 'h'),\n",
       " (6, 'g'),\n",
       " (6, 'f'),\n",
       " (7, 'a'),\n",
       " (7, 's'),\n",
       " (7, 'f'),\n",
       " (7, 'g'),\n",
       " (7, 'h'),\n",
       " (7, 'g'),\n",
       " (7, 'f')]"
      ]
     },
     "execution_count": 14,
     "metadata": {},
     "output_type": "execute_result"
    }
   ],
   "source": [
    "[(x,y) for x in l for y in l2]"
   ]
  },
  {
   "cell_type": "code",
   "execution_count": null,
   "metadata": {},
   "outputs": [],
   "source": []
  }
 ],
 "metadata": {
  "kernelspec": {
   "display_name": "Python 3",
   "language": "python",
   "name": "python3"
  },
  "language_info": {
   "codemirror_mode": {
    "name": "ipython",
    "version": 3
   },
   "file_extension": ".py",
   "mimetype": "text/x-python",
   "name": "python",
   "nbconvert_exporter": "python",
   "pygments_lexer": "ipython3",
   "version": "3.6.5"
  }
 },
 "nbformat": 4,
 "nbformat_minor": 2
}
