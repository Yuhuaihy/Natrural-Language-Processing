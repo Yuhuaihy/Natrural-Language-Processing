{
 "cells": [
  {
   "cell_type": "markdown",
   "metadata": {},
   "source": [
    "Unix, Git and Github"
   ]
  },
  {
   "cell_type": "markdown",
   "metadata": {},
   "source": [
    "Terminal\n",
    "shell: outermost software component of os\n",
    "command line\n",
    "shells need to accept user input and perform acitons\n",
    "read-evaluate-print-loop\n",
    "Bash:\n",
    "> redirect into file (overwrite)\n",
    ">>\n",
    "chmod +x file ## executable ./\n",
    "vi: open\n",
    "ctrl+D: close\n"
   ]
  }
 ],
 "metadata": {
  "kernelspec": {
   "display_name": "Python 3",
   "language": "python",
   "name": "python3"
  },
  "language_info": {
   "codemirror_mode": {
    "name": "ipython",
    "version": 3
   },
   "file_extension": ".py",
   "mimetype": "text/x-python",
   "name": "python",
   "nbconvert_exporter": "python",
   "pygments_lexer": "ipython3",
   "version": "3.6.5"
  }
 },
 "nbformat": 4,
 "nbformat_minor": 2
}
