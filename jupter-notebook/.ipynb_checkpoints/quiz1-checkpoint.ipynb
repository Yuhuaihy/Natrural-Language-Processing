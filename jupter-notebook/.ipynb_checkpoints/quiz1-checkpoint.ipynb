{
 "cells": [
  {
   "cell_type": "code",
   "execution_count": 52,
   "metadata": {},
   "outputs": [
    {
     "name": "stdout",
     "output_type": "stream",
     "text": [
      "showing info https://raw.githubusercontent.com/nltk/nltk_data/gh-pages/index.xml\n"
     ]
    },
    {
     "data": {
      "text/plain": [
       "True"
      ]
     },
     "execution_count": 52,
     "metadata": {},
     "output_type": "execute_result"
    }
   ],
   "source": [
    "import nltk\n",
    "nltk.download()"
   ]
  },
  {
   "cell_type": "code",
   "execution_count": 2,
   "metadata": {},
   "outputs": [
    {
     "name": "stdout",
     "output_type": "stream",
     "text": [
      "*** Introductory Examples for the NLTK Book ***\n",
      "Loading text1, ..., text9 and sent1, ..., sent9\n",
      "Type the name of the text or sentence to view it.\n",
      "Type: 'texts()' or 'sents()' to list the materials.\n",
      "text1: Moby Dick by Herman Melville 1851\n",
      "text2: Sense and Sensibility by Jane Austen 1811\n",
      "text3: The Book of Genesis\n",
      "text4: Inaugural Address Corpus\n",
      "text5: Chat Corpus\n",
      "text6: Monty Python and the Holy Grail\n",
      "text7: Wall Street Journal\n",
      "text8: Personals Corpus\n",
      "text9: The Man Who Was Thursday by G . K . Chesterton 1908\n"
     ]
    }
   ],
   "source": [
    "from nltk.book import *"
   ]
  },
  {
   "cell_type": "code",
   "execution_count": 3,
   "metadata": {},
   "outputs": [
    {
     "name": "stdout",
     "output_type": "stream",
     "text": [
      "Displaying 11 of 11 matches:\n",
      "ong the former , one was of a most monstrous size . ... This came towards us , \n",
      "ON OF THE PSALMS . \" Touching that monstrous bulk of the whale or ork we have r\n",
      "ll over with a heathenish array of monstrous clubs and spears . Some were thick\n",
      "d as you gazed , and wondered what monstrous cannibal and savage could ever hav\n",
      "that has survived the flood ; most monstrous and most mountainous ! That Himmal\n",
      "they might scout at Moby Dick as a monstrous fable , or still worse and more de\n",
      "th of Radney .'\" CHAPTER 55 Of the Monstrous Pictures of Whales . I shall ere l\n",
      "ing Scenes . In connexion with the monstrous pictures of whales , I am strongly\n",
      "ere to enter upon those still more monstrous stories of them which are to be fo\n",
      "ght have been rummaged out of this monstrous cabinet there is no telling . But \n",
      "of Whale - Bones ; for Whales of a monstrous size are oftentimes cast up dead u\n"
     ]
    }
   ],
   "source": [
    "text1.concordance('monstrous')"
   ]
  },
  {
   "cell_type": "code",
   "execution_count": 5,
   "metadata": {},
   "outputs": [
    {
     "name": "stdout",
     "output_type": "stream",
     "text": [
      "true contemptible christian abundant few part mean careful puzzled\n",
      "mystifying passing curious loving wise doleful gamesome singular\n",
      "delightfully perilous fearless\n"
     ]
    }
   ],
   "source": [
    "text1.similar(\"monstrous\")"
   ]
  },
  {
   "cell_type": "code",
   "execution_count": 6,
   "metadata": {},
   "outputs": [
    {
     "data": {
      "text/plain": [
       "<Figure size 640x480 with 1 Axes>"
      ]
     },
     "metadata": {},
     "output_type": "display_data"
    }
   ],
   "source": [
    "text4.dispersion_plot([\"citizens\",\"freedom\",\"people\"])"
   ]
  },
  {
   "cell_type": "code",
   "execution_count": 12,
   "metadata": {},
   "outputs": [],
   "source": [
    "text1.generate()"
   ]
  },
  {
   "cell_type": "code",
   "execution_count": 13,
   "metadata": {},
   "outputs": [
    {
     "data": {
      "text/plain": [
       "44764"
      ]
     },
     "execution_count": 13,
     "metadata": {},
     "output_type": "execute_result"
    }
   ],
   "source": [
    "len(text3) ## tokens\n"
   ]
  },
  {
   "cell_type": "code",
   "execution_count": 14,
   "metadata": {},
   "outputs": [
    {
     "data": {
      "text/plain": [
       "nltk.text.Text"
      ]
     },
     "execution_count": 14,
     "metadata": {},
     "output_type": "execute_result"
    }
   ],
   "source": [
    "type(text3)"
   ]
  },
  {
   "cell_type": "code",
   "execution_count": 15,
   "metadata": {},
   "outputs": [
    {
     "data": {
      "text/plain": [
       "{'alive',\n",
       " 'urged',\n",
       " 'Ophir',\n",
       " 'received',\n",
       " 'person',\n",
       " 'distress',\n",
       " 'brass',\n",
       " 'her',\n",
       " 'They',\n",
       " 'moving',\n",
       " 'shoelatchet',\n",
       " 'fifth',\n",
       " 'From',\n",
       " 'Mam',\n",
       " 'tender',\n",
       " 'anger',\n",
       " 'coffin',\n",
       " 'Naphish',\n",
       " 'prince',\n",
       " 'Kenizzites',\n",
       " 'Hanoch',\n",
       " 'Calah',\n",
       " 'possessions',\n",
       " 'daughter',\n",
       " 'given',\n",
       " 'seedtime',\n",
       " 'tongue',\n",
       " 'meant',\n",
       " 'herdmen',\n",
       " 'Manasseh',\n",
       " 'get',\n",
       " 'words',\n",
       " 'throne',\n",
       " 'Joktan',\n",
       " 'hearth',\n",
       " 'hire',\n",
       " 'profit',\n",
       " 'whither',\n",
       " 'stolen',\n",
       " 'moreover',\n",
       " 'appe',\n",
       " 'espied',\n",
       " 'shepherds',\n",
       " 'treasure',\n",
       " 'Tarshish',\n",
       " 'Ishuah',\n",
       " 'twel',\n",
       " 'Shel',\n",
       " 'heifer',\n",
       " 'creature',\n",
       " 'edge',\n",
       " 'Shelah',\n",
       " 'Rameses',\n",
       " 'dwe',\n",
       " 'Phallu',\n",
       " 'chi',\n",
       " 'Javan',\n",
       " 'punishment',\n",
       " 'Hamathite',\n",
       " 'shrubs',\n",
       " 'fellow',\n",
       " 'wombs',\n",
       " 'Abraham',\n",
       " 'offeri',\n",
       " 'west',\n",
       " 'talking',\n",
       " 'altar',\n",
       " 'Togarmah',\n",
       " 'prayed',\n",
       " 'midst',\n",
       " 'none',\n",
       " 'comforted',\n",
       " 'spi',\n",
       " 'bless',\n",
       " 'fugitive',\n",
       " 'multiply',\n",
       " 'faces',\n",
       " 'dreamed',\n",
       " 'off',\n",
       " 'provision',\n",
       " 'roll',\n",
       " 'thoughts',\n",
       " 'shrank',\n",
       " 'sworn',\n",
       " 'venison',\n",
       " 'violence',\n",
       " 'Amorites',\n",
       " 'ev',\n",
       " 'foot',\n",
       " 'sakes',\n",
       " 'butlership',\n",
       " 'morever',\n",
       " 'Surely',\n",
       " 'overtake',\n",
       " 'truly',\n",
       " 'cut',\n",
       " 'favour',\n",
       " 'clave',\n",
       " 'plenty',\n",
       " 'numbered',\n",
       " 'envied',\n",
       " 'interpretations',\n",
       " 'feast',\n",
       " 'height',\n",
       " 'cometh',\n",
       " 'seas',\n",
       " 'slew',\n",
       " 'after',\n",
       " 'Dumah',\n",
       " 'fashion',\n",
       " 'cubits',\n",
       " 'Upon',\n",
       " 'blasted',\n",
       " 'archers',\n",
       " 'Mehetabel',\n",
       " 'mouth',\n",
       " 'biteth',\n",
       " 'winged',\n",
       " 'as',\n",
       " 'forth',\n",
       " 'other',\n",
       " 'visited',\n",
       " 'Gomer',\n",
       " 'At',\n",
       " 'priests',\n",
       " 'stooped',\n",
       " 'fo',\n",
       " 'judged',\n",
       " 'knew',\n",
       " 'bearing',\n",
       " 'oil',\n",
       " 'trespass',\n",
       " 'Adbeel',\n",
       " 'abundantly',\n",
       " 'hundredth',\n",
       " 'wept',\n",
       " 'Lahairoi',\n",
       " 'own',\n",
       " 'Every',\n",
       " 'Pison',\n",
       " 'proceedeth',\n",
       " 'broth',\n",
       " 'tower',\n",
       " 'Padan',\n",
       " 'overseer',\n",
       " 'ascending',\n",
       " 'Arvadite',\n",
       " 'oxen',\n",
       " 'Esek',\n",
       " 'distressed',\n",
       " 'obeisance',\n",
       " 'Rosh',\n",
       " 'conspired',\n",
       " 'possessor',\n",
       " 'divineth',\n",
       " 'fainted',\n",
       " 'slimepits',\n",
       " 'isles',\n",
       " 'cakes',\n",
       " 'Cana',\n",
       " 'sit',\n",
       " 'rebuked',\n",
       " 'say',\n",
       " 'Speak',\n",
       " 'Adullamite',\n",
       " 'afterward',\n",
       " 'male',\n",
       " 'wandered',\n",
       " 'threshingfloor',\n",
       " 'bundles',\n",
       " 'chain',\n",
       " 'fleddest',\n",
       " 'removing',\n",
       " 'These',\n",
       " 'shoulders',\n",
       " 'Zillah',\n",
       " 'soon',\n",
       " 'My',\n",
       " 'Salah',\n",
       " 'spices',\n",
       " 'ran',\n",
       " 'getting',\n",
       " 'morter',\n",
       " 'imagination',\n",
       " 'Erech',\n",
       " 'while',\n",
       " 'Reu',\n",
       " 'Is',\n",
       " 'Bethlehem',\n",
       " 'tillest',\n",
       " 'Simeon',\n",
       " 'Who',\n",
       " 'tongues',\n",
       " 'wrapped',\n",
       " 'bak',\n",
       " 'burn',\n",
       " 'Ashteroth',\n",
       " 'hanged',\n",
       " 'thi',\n",
       " 'fetcht',\n",
       " 'Midian',\n",
       " 'visit',\n",
       " 'will',\n",
       " 'citi',\n",
       " 'nakedness',\n",
       " 'gavest',\n",
       " 'cunning',\n",
       " 'Ye',\n",
       " 'Zuzims',\n",
       " 'Hagar',\n",
       " 'beguiled',\n",
       " 'when',\n",
       " 'organ',\n",
       " 'got',\n",
       " 'because',\n",
       " 'pursued',\n",
       " 'visions',\n",
       " 'mock',\n",
       " 'mocking',\n",
       " 'path',\n",
       " 'reason',\n",
       " 'sheddeth',\n",
       " 'Get',\n",
       " 'enmity',\n",
       " 'bitter',\n",
       " 'strange',\n",
       " 'appointed',\n",
       " 'except',\n",
       " 'sowed',\n",
       " 'multitude',\n",
       " 'intreat',\n",
       " 'married',\n",
       " 'strakes',\n",
       " 'battle',\n",
       " 'kept',\n",
       " 'Day',\n",
       " 'these',\n",
       " 'Jubal',\n",
       " 'joint',\n",
       " 'Zemarite',\n",
       " 'Tubalcain',\n",
       " 'Ellasar',\n",
       " 'art',\n",
       " 'ninety',\n",
       " 'lad',\n",
       " 'earrings',\n",
       " 'not',\n",
       " 'Also',\n",
       " 'Aholibamah',\n",
       " 'eighty',\n",
       " 'mother',\n",
       " 'money',\n",
       " 'vagabond',\n",
       " 'interpret',\n",
       " 'aprons',\n",
       " 'basket',\n",
       " 'thence',\n",
       " 'restore',\n",
       " 'sons',\n",
       " 'goodly',\n",
       " 'Se',\n",
       " 'also',\n",
       " 'Tamar',\n",
       " 'aloud',\n",
       " 'shortly',\n",
       " 'bulls',\n",
       " 'how',\n",
       " 'filled',\n",
       " 'lamentati',\n",
       " 'Moreh',\n",
       " 'morning',\n",
       " 'beheld',\n",
       " 'hated',\n",
       " 'pursue',\n",
       " 'Zimran',\n",
       " 'Zoar',\n",
       " 'wilderness',\n",
       " 'coming',\n",
       " 'rouse',\n",
       " 'long',\n",
       " 'staff',\n",
       " 'flaming',\n",
       " 'twice',\n",
       " 'lifted',\n",
       " 'another',\n",
       " 'bear',\n",
       " 'land',\n",
       " 'buy',\n",
       " 'birds',\n",
       " 'bake',\n",
       " 'cried',\n",
       " 'hadst',\n",
       " 'seekest',\n",
       " 'Jac',\n",
       " 'Obal',\n",
       " 'flee',\n",
       " 'shed',\n",
       " 'pilled',\n",
       " 'prevailed',\n",
       " 'grisl',\n",
       " 'washed',\n",
       " 'into',\n",
       " 'moveth',\n",
       " 'offended',\n",
       " 'handmaidens',\n",
       " 'months',\n",
       " 'Eshban',\n",
       " 'Tola',\n",
       " 'strangers',\n",
       " 'Sephar',\n",
       " 'me',\n",
       " 'mess',\n",
       " 'firmame',\n",
       " 'the',\n",
       " 'Now',\n",
       " 'one',\n",
       " 'sort',\n",
       " 'imagined',\n",
       " 'separate',\n",
       " 'wood',\n",
       " 'Mash',\n",
       " 'merchantmen',\n",
       " 'rich',\n",
       " 'herds',\n",
       " 'meadow',\n",
       " 'stricken',\n",
       " 'Jetur',\n",
       " 'princes',\n",
       " 'teeth',\n",
       " 'merciful',\n",
       " 'wilt',\n",
       " 'messengers',\n",
       " 'mayest',\n",
       " 'early',\n",
       " 'whatsoever',\n",
       " 'embalm',\n",
       " 'delight',\n",
       " 'Rehoboth',\n",
       " 'blindness',\n",
       " 'nation',\n",
       " 'kiss',\n",
       " 'head',\n",
       " 'progenitors',\n",
       " 'Accad',\n",
       " 'father',\n",
       " 'repented',\n",
       " 'Ham',\n",
       " 'Egy',\n",
       " 'Shechem',\n",
       " 'Feed',\n",
       " 'gro',\n",
       " 'lying',\n",
       " 'Wherefore',\n",
       " 'bdellium',\n",
       " 'offering',\n",
       " 'speed',\n",
       " 'trough',\n",
       " 'welfare',\n",
       " 'dipped',\n",
       " 'thee',\n",
       " 'weig',\n",
       " 'Timna',\n",
       " 'dark',\n",
       " 'Abr',\n",
       " 'royal',\n",
       " 'hold',\n",
       " 'kindly',\n",
       " 'place',\n",
       " 'content',\n",
       " 'wot',\n",
       " 'thy',\n",
       " 'ewes',\n",
       " 'Shed',\n",
       " 'baker',\n",
       " 'seventeen',\n",
       " 'meal',\n",
       " 'Eshcol',\n",
       " 'clo',\n",
       " 'precious',\n",
       " 'always',\n",
       " 'Two',\n",
       " 'door',\n",
       " 'dry',\n",
       " 'wroth',\n",
       " 'ark',\n",
       " 'whose',\n",
       " 'affliction',\n",
       " 'Whose',\n",
       " 'most',\n",
       " 'Dodanim',\n",
       " 'carcases',\n",
       " 'separated',\n",
       " 'Ishmeelites',\n",
       " 'Fulfil',\n",
       " 'giants',\n",
       " 'fath',\n",
       " 'Of',\n",
       " 'emptied',\n",
       " 'Gershon',\n",
       " 'integrity',\n",
       " 'lamp',\n",
       " 'possessi',\n",
       " 'Goshen',\n",
       " 'sand',\n",
       " 'on',\n",
       " 'Asenath',\n",
       " 'appear',\n",
       " 'increase',\n",
       " 'first',\n",
       " 'righteous',\n",
       " 'betimes',\n",
       " 'yourselves',\n",
       " 'grisled',\n",
       " 'like',\n",
       " 'increased',\n",
       " 'Hear',\n",
       " 'arose',\n",
       " 'Buz',\n",
       " 'pillows',\n",
       " 'concubi',\n",
       " 'inherit',\n",
       " 'rib',\n",
       " 'law',\n",
       " 'Fear',\n",
       " 'tabret',\n",
       " 'fowl',\n",
       " 'pitcher',\n",
       " 'Zibeon',\n",
       " 'whoredom',\n",
       " 'seen',\n",
       " 'swear',\n",
       " 'Iram',\n",
       " 'Guni',\n",
       " 'cruelty',\n",
       " 'Sabtah',\n",
       " 'whosoever',\n",
       " 'within',\n",
       " 'harp',\n",
       " 'signet',\n",
       " 'goats',\n",
       " 'mist',\n",
       " 'By',\n",
       " 'wells',\n",
       " 'looked',\n",
       " 'm',\n",
       " 'Tubal',\n",
       " 'Riphath',\n",
       " 'heads',\n",
       " 'sware',\n",
       " 'piece',\n",
       " 'waxed',\n",
       " 'Except',\n",
       " 'honour',\n",
       " 'Mahalath',\n",
       " 'EleloheIsrael',\n",
       " 'three',\n",
       " 'Potiphar',\n",
       " 'Zaavan',\n",
       " 'Lehabim',\n",
       " 'fathers',\n",
       " 'doe',\n",
       " 'refrained',\n",
       " 'laugh',\n",
       " 'meat',\n",
       " 'enough',\n",
       " 'Canaanites',\n",
       " 'sojourn',\n",
       " 'Zepho',\n",
       " 'south',\n",
       " 'Do',\n",
       " 'fine',\n",
       " 'deep',\n",
       " 'Aran',\n",
       " 'tent',\n",
       " 'vowed',\n",
       " 'boug',\n",
       " 'goods',\n",
       " 'd',\n",
       " 'beari',\n",
       " 'cannot',\n",
       " 'ey',\n",
       " 'birthright',\n",
       " 'Laban',\n",
       " 'Kiriathaim',\n",
       " 'nought',\n",
       " 'committed',\n",
       " 'power',\n",
       " 'his',\n",
       " 'Phara',\n",
       " 'evil',\n",
       " 'chesnut',\n",
       " 'remove',\n",
       " 'Baalhanan',\n",
       " 'interpreter',\n",
       " 'fou',\n",
       " 'enquire',\n",
       " 'wit',\n",
       " 'sevens',\n",
       " 'Avith',\n",
       " 'departing',\n",
       " 'wicked',\n",
       " 'Perizzites',\n",
       " 'kissed',\n",
       " 'Spirit',\n",
       " 'remembered',\n",
       " 'Zo',\n",
       " 'tarried',\n",
       " 'tribute',\n",
       " 'rebelled',\n",
       " '!',\n",
       " 'honourable',\n",
       " 'garmen',\n",
       " 'countenance',\n",
       " 'communed',\n",
       " 'month',\n",
       " 'merry',\n",
       " 'Carmi',\n",
       " 'subtilty',\n",
       " 'ruled',\n",
       " 'asketh',\n",
       " 'breathed',\n",
       " 'never',\n",
       " 'On',\n",
       " 'Mibsam',\n",
       " 'dressed',\n",
       " 'breach',\n",
       " 'trembled',\n",
       " 'Pathrusim',\n",
       " 'calf',\n",
       " 'The',\n",
       " 'tops',\n",
       " 'living',\n",
       " 'heard',\n",
       " 'Until',\n",
       " 'Syrian',\n",
       " 'butlers',\n",
       " 'Manass',\n",
       " 'eventide',\n",
       " 'Abimelech',\n",
       " 'camels',\n",
       " 'purposing',\n",
       " 'bring',\n",
       " 'return',\n",
       " 'vow',\n",
       " 'marry',\n",
       " 'Girgashites',\n",
       " 'Isra',\n",
       " 'fair',\n",
       " 'tar',\n",
       " 'Peniel',\n",
       " 'chode',\n",
       " 'sou',\n",
       " 'There',\n",
       " 'found',\n",
       " 'oversig',\n",
       " 'entered',\n",
       " 'possession',\n",
       " 'home',\n",
       " 'Shebah',\n",
       " 'butler',\n",
       " 'proved',\n",
       " 'withhold',\n",
       " 'back',\n",
       " 'quickly',\n",
       " 'carried',\n",
       " 'blessings',\n",
       " 'natio',\n",
       " 'exceedingly',\n",
       " 'uncovered',\n",
       " 'smoking',\n",
       " 'builded',\n",
       " 'willing',\n",
       " 'Judge',\n",
       " 'grapes',\n",
       " 'wild',\n",
       " 'Sarah',\n",
       " 'lightly',\n",
       " 'Set',\n",
       " 'deceitfully',\n",
       " 'though',\n",
       " 'Arphaxad',\n",
       " 'lead',\n",
       " 'yet',\n",
       " 'excel',\n",
       " 'morrow',\n",
       " 'wealth',\n",
       " 'lentiles',\n",
       " 'accept',\n",
       " 'Succoth',\n",
       " 'breadth',\n",
       " 'speaketh',\n",
       " 'womb',\n",
       " 'for',\n",
       " 'upward',\n",
       " 'kindness',\n",
       " 'led',\n",
       " 'bands',\n",
       " 'thousand',\n",
       " 'sight',\n",
       " 'Thahash',\n",
       " 'all',\n",
       " 'our',\n",
       " 'well',\n",
       " 'Eliphaz',\n",
       " 'age',\n",
       " 'Tell',\n",
       " 'sprung',\n",
       " 'Shobal',\n",
       " 'night',\n",
       " 'blessi',\n",
       " 'Zeboiim',\n",
       " 'perform',\n",
       " 'sweet',\n",
       " 'Beeri',\n",
       " 'Mahalaleel',\n",
       " 'Dinah',\n",
       " 'comest',\n",
       " 'lan',\n",
       " 'Moab',\n",
       " 'riv',\n",
       " 'felt',\n",
       " 'sin',\n",
       " 'Heber',\n",
       " 'take',\n",
       " 'wives',\n",
       " 'Wilt',\n",
       " 'inn',\n",
       " 'whereof',\n",
       " 'window',\n",
       " 'birthday',\n",
       " 'let',\n",
       " 'tell',\n",
       " 'doth',\n",
       " 'certainly',\n",
       " 'intreated',\n",
       " 'droves',\n",
       " 'Atad',\n",
       " 'Terah',\n",
       " 'priest',\n",
       " 'Manahath',\n",
       " 'nuts',\n",
       " 'order',\n",
       " 'flo',\n",
       " 'sheweth',\n",
       " 'Hittite',\n",
       " 'health',\n",
       " 'dealt',\n",
       " 'Timnath',\n",
       " 'nineteen',\n",
       " 'Maachah',\n",
       " 'bowing',\n",
       " 'Bethel',\n",
       " 'hearkened',\n",
       " 'season',\n",
       " 'held',\n",
       " 'unit',\n",
       " 'more',\n",
       " 'forward',\n",
       " 'mules',\n",
       " 'horror',\n",
       " 'inhabitants',\n",
       " 'wages',\n",
       " 'son',\n",
       " 'hath',\n",
       " 'feebler',\n",
       " 'roughly',\n",
       " 'near',\n",
       " 'comi',\n",
       " 'Gaham',\n",
       " 'With',\n",
       " 'poplar',\n",
       " ':',\n",
       " 'gre',\n",
       " 'kids',\n",
       " 'Perizzit',\n",
       " 'wrought',\n",
       " 'Gaza',\n",
       " 'reserved',\n",
       " 'plant',\n",
       " 'commanded',\n",
       " 'barr',\n",
       " 'Bashemath',\n",
       " 'enter',\n",
       " 'branches',\n",
       " 'Mamre',\n",
       " 'budded',\n",
       " 'Salem',\n",
       " 'Blessed',\n",
       " 'Elam',\n",
       " 'tribes',\n",
       " 'mourn',\n",
       " 'milk',\n",
       " 'gold',\n",
       " 'Zaphnathpaaneah',\n",
       " 'Zeboim',\n",
       " 'entreated',\n",
       " 'Egyptian',\n",
       " 'dukes',\n",
       " 'bakemeats',\n",
       " 'lord',\n",
       " 'fed',\n",
       " 'Isaac',\n",
       " 'silver',\n",
       " 'Dothan',\n",
       " 'divided',\n",
       " 'ste',\n",
       " 'dale',\n",
       " 'savour',\n",
       " 'come',\n",
       " 'Temani',\n",
       " 'answered',\n",
       " 'hunter',\n",
       " 'Ashkenaz',\n",
       " 'abide',\n",
       " 'aw',\n",
       " 'sacrifices',\n",
       " 'haven',\n",
       " 'conception',\n",
       " 'wast',\n",
       " 'continued',\n",
       " 'restored',\n",
       " 'scarce',\n",
       " 'herd',\n",
       " 'countries',\n",
       " 'cleave',\n",
       " 'Teman',\n",
       " 'light',\n",
       " 'Tema',\n",
       " 'next',\n",
       " 'Sell',\n",
       " 'leanfleshed',\n",
       " 'they',\n",
       " 'tenth',\n",
       " 'hairs',\n",
       " 'meet',\n",
       " 'Abel',\n",
       " 'corrupt',\n",
       " 'places',\n",
       " 'strength',\n",
       " 'violently',\n",
       " 'goeth',\n",
       " 'officer',\n",
       " 'build',\n",
       " 'laden',\n",
       " 'what',\n",
       " 'commune',\n",
       " 'conceived',\n",
       " 'bondman',\n",
       " 'sell',\n",
       " 'lesser',\n",
       " 'waxen',\n",
       " 'Job',\n",
       " 'purchase',\n",
       " 'plagued',\n",
       " 'Cain',\n",
       " 'betwixt',\n",
       " 'For',\n",
       " 'slay',\n",
       " 'quart',\n",
       " 'slain',\n",
       " 'whether',\n",
       " 'red',\n",
       " 'harm',\n",
       " 'Aner',\n",
       " 'third',\n",
       " 'songs',\n",
       " 'watered',\n",
       " 'Zar',\n",
       " 'Epher',\n",
       " 'loveth',\n",
       " 'wotteth',\n",
       " 'Kirjatharba',\n",
       " 'Our',\n",
       " 'Spake',\n",
       " 'Sodom',\n",
       " 'canst',\n",
       " 'Arise',\n",
       " 'walked',\n",
       " 'commandments',\n",
       " 'Dishon',\n",
       " 'fish',\n",
       " 'awaked',\n",
       " 'chief',\n",
       " 'subdue',\n",
       " 'weary',\n",
       " 'heaven',\n",
       " 'air',\n",
       " 'Huz',\n",
       " 'follow',\n",
       " 'folk',\n",
       " 'clusters',\n",
       " 'spent',\n",
       " 'brown',\n",
       " 'Dan',\n",
       " 'pit',\n",
       " 'she',\n",
       " 'Heaven',\n",
       " 'Thou',\n",
       " 'grove',\n",
       " 'westwa',\n",
       " 'trained',\n",
       " 'refused',\n",
       " 'dowry',\n",
       " 'stuff',\n",
       " 'Pinon',\n",
       " 'afraid',\n",
       " 'spilled',\n",
       " 'born',\n",
       " 'Behold',\n",
       " 'stead',\n",
       " 'shot',\n",
       " 'angels',\n",
       " 'offer',\n",
       " 'standest',\n",
       " 'Rebekah',\n",
       " 'Woman',\n",
       " 'break',\n",
       " 'pigeon',\n",
       " 'hired',\n",
       " 'anointedst',\n",
       " 'had',\n",
       " 'formed',\n",
       " 'Chesed',\n",
       " 'Reub',\n",
       " 'Amalekites',\n",
       " 'parts',\n",
       " 'Remain',\n",
       " 'Shuni',\n",
       " 'thirteenth',\n",
       " 'judgment',\n",
       " 'ended',\n",
       " 'An',\n",
       " 'hind',\n",
       " 'sinners',\n",
       " 'hands',\n",
       " 'matter',\n",
       " 'oak',\n",
       " 'multiplied',\n",
       " 'utmost',\n",
       " 'magnified',\n",
       " 'direct',\n",
       " 'fury',\n",
       " 'Then',\n",
       " 'wentest',\n",
       " 'overcome',\n",
       " 'servants',\n",
       " 'fountain',\n",
       " 'chamber',\n",
       " 'Reumah',\n",
       " 'straw',\n",
       " 'themselves',\n",
       " 'Lest',\n",
       " 'put',\n",
       " 'wounding',\n",
       " 'preserved',\n",
       " 'killed',\n",
       " 'do',\n",
       " 'badne',\n",
       " 'physicians',\n",
       " 'Out',\n",
       " 'Forgive',\n",
       " 'heap',\n",
       " 'friends',\n",
       " 'make',\n",
       " 'worship',\n",
       " 'plain',\n",
       " 'images',\n",
       " 'rods',\n",
       " 'Enos',\n",
       " 'deed',\n",
       " 'house',\n",
       " 'jewels',\n",
       " 'Gera',\n",
       " 'lieth',\n",
       " 'ashamed',\n",
       " 'reproa',\n",
       " 'charged',\n",
       " 'sto',\n",
       " 'Girgasite',\n",
       " 'reviv',\n",
       " 'dungeon',\n",
       " 'perish',\n",
       " 'Omar',\n",
       " 'befell',\n",
       " 'Haran',\n",
       " 'both',\n",
       " 'Abide',\n",
       " 'governor',\n",
       " 'everlasting',\n",
       " 'endure',\n",
       " 'li',\n",
       " 'Letushim',\n",
       " 'famine',\n",
       " 'touch',\n",
       " 'ri',\n",
       " 'journey',\n",
       " 'rams',\n",
       " 'Hebrew',\n",
       " 'creepeth',\n",
       " 'moon',\n",
       " 'worth',\n",
       " 'absent',\n",
       " 'womenservants',\n",
       " 'avenged',\n",
       " 'Caphtorim',\n",
       " 'Unto',\n",
       " 'fetched',\n",
       " 'thine',\n",
       " 'judge',\n",
       " 'Haggi',\n",
       " 'Siddim',\n",
       " 'Be',\n",
       " 'deprived',\n",
       " 'myself',\n",
       " 'guiding',\n",
       " 'wrong',\n",
       " 'sixth',\n",
       " 'young',\n",
       " 'Casluhim',\n",
       " 'before',\n",
       " 'victuals',\n",
       " 'mercies',\n",
       " 'A',\n",
       " 'Anah',\n",
       " 'Cause',\n",
       " 'Earth',\n",
       " 'seventy',\n",
       " 'All',\n",
       " 'instruments',\n",
       " 'state',\n",
       " 'shew',\n",
       " 'any',\n",
       " 'wagons',\n",
       " 'wittingly',\n",
       " 'without',\n",
       " 'ravin',\n",
       " 'set',\n",
       " 'therein',\n",
       " 'booths',\n",
       " 'cave',\n",
       " 'drew',\n",
       " 'His',\n",
       " 'lack',\n",
       " 'Ephron',\n",
       " 'Hazezontamar',\n",
       " 'Achbor',\n",
       " 'lade',\n",
       " 'afterwards',\n",
       " 'failed',\n",
       " 'Leummim',\n",
       " 'thus',\n",
       " 'Some',\n",
       " 'When',\n",
       " 'up',\n",
       " 'lean',\n",
       " 'hindermost',\n",
       " 'pitch',\n",
       " 'have',\n",
       " 'Binding',\n",
       " 'jud',\n",
       " 'Bilhan',\n",
       " 'few',\n",
       " 'breaketh',\n",
       " 'captives',\n",
       " 'selfsame',\n",
       " 'rise',\n",
       " 'acknowledged',\n",
       " 'floor',\n",
       " 'help',\n",
       " 'Nahor',\n",
       " 'oa',\n",
       " 'subtil',\n",
       " 'Nod',\n",
       " 'reign',\n",
       " 'Abram',\n",
       " 'ghost',\n",
       " 'live',\n",
       " 'Ararat',\n",
       " 'Asshurim',\n",
       " 'purchased',\n",
       " 'ride',\n",
       " 'said',\n",
       " 'smote',\n",
       " 'archer',\n",
       " 'Cheran',\n",
       " 'gathering',\n",
       " 'fled',\n",
       " 'Phuvah',\n",
       " 'Eve',\n",
       " 'Ethiopia',\n",
       " '?)',\n",
       " 'Irad',\n",
       " 'hurt',\n",
       " 'spoken',\n",
       " 'Bera',\n",
       " 'assigned',\n",
       " 'sole',\n",
       " 'turtledove',\n",
       " 'servan',\n",
       " 'find',\n",
       " ...}"
      ]
     },
     "execution_count": 15,
     "metadata": {},
     "output_type": "execute_result"
    }
   ],
   "source": [
    "set(text3) ##word types"
   ]
  },
  {
   "cell_type": "code",
   "execution_count": 16,
   "metadata": {},
   "outputs": [
    {
     "data": {
      "text/plain": [
       "35"
      ]
     },
     "execution_count": 16,
     "metadata": {},
     "output_type": "execute_result"
    }
   ],
   "source": [
    "text3.count(\"people\")"
   ]
  },
  {
   "cell_type": "code",
   "execution_count": 17,
   "metadata": {},
   "outputs": [
    {
     "data": {
      "text/plain": [
       "['The',\n",
       " 'family',\n",
       " 'of',\n",
       " 'Dashwood',\n",
       " 'had',\n",
       " 'long',\n",
       " 'been',\n",
       " 'settled',\n",
       " 'in',\n",
       " 'Sussex',\n",
       " '.']"
      ]
     },
     "execution_count": 17,
     "metadata": {},
     "output_type": "execute_result"
    }
   ],
   "source": [
    "sent2\n"
   ]
  },
  {
   "cell_type": "code",
   "execution_count": 18,
   "metadata": {},
   "outputs": [
    {
     "data": {
      "text/plain": [
       "2982"
      ]
     },
     "execution_count": 18,
     "metadata": {},
     "output_type": "execute_result"
    }
   ],
   "source": [
    "text1.index('people')"
   ]
  },
  {
   "cell_type": "code",
   "execution_count": 19,
   "metadata": {},
   "outputs": [],
   "source": [
    "tokens = set([\"this\",\"is\",\"a\",\"dog\"])\n",
    "tokens = sorted(tokens)"
   ]
  },
  {
   "cell_type": "code",
   "execution_count": 20,
   "metadata": {},
   "outputs": [
    {
     "data": {
      "text/plain": [
       "['a', 'dog', 'is', 'this']"
      ]
     },
     "execution_count": 20,
     "metadata": {},
     "output_type": "execute_result"
    }
   ],
   "source": [
    "tokens"
   ]
  },
  {
   "cell_type": "code",
   "execution_count": 21,
   "metadata": {},
   "outputs": [
    {
     "data": {
      "text/plain": [
       "['is', 'this']"
      ]
     },
     "execution_count": 21,
     "metadata": {},
     "output_type": "execute_result"
    }
   ],
   "source": [
    "tokens[-2:]"
   ]
  },
  {
   "cell_type": "code",
   "execution_count": 22,
   "metadata": {},
   "outputs": [],
   "source": [
    "from nltk import FreqDist"
   ]
  },
  {
   "cell_type": "code",
   "execution_count": 23,
   "metadata": {},
   "outputs": [
    {
     "data": {
      "text/plain": [
       "FreqDist({',': 18713, 'the': 13721, '.': 6862, 'of': 6536, 'and': 6024, 'a': 4569, 'to': 4542, ';': 4072, 'in': 3916, 'that': 2982, ...})"
      ]
     },
     "execution_count": 23,
     "metadata": {},
     "output_type": "execute_result"
    }
   ],
   "source": [
    "f = FreqDist(text1)\n",
    "f"
   ]
  },
  {
   "cell_type": "code",
   "execution_count": 24,
   "metadata": {},
   "outputs": [
    {
     "data": {
      "text/plain": [
       "[(',', 18713),\n",
       " ('the', 13721),\n",
       " ('.', 6862),\n",
       " ('of', 6536),\n",
       " ('and', 6024),\n",
       " ('a', 4569),\n",
       " ('to', 4542),\n",
       " (';', 4072),\n",
       " ('in', 3916),\n",
       " ('that', 2982)]"
      ]
     },
     "execution_count": 24,
     "metadata": {},
     "output_type": "execute_result"
    }
   ],
   "source": [
    "f.most_common(10)"
   ]
  },
  {
   "cell_type": "code",
   "execution_count": 25,
   "metadata": {},
   "outputs": [
    {
     "data": {
      "text/plain": [
       "906"
      ]
     },
     "execution_count": 25,
     "metadata": {},
     "output_type": "execute_result"
    }
   ],
   "source": [
    "f['whale']"
   ]
  },
  {
   "cell_type": "code",
   "execution_count": 27,
   "metadata": {},
   "outputs": [
    {
     "data": {
      "text/plain": [
       "[('more', 'is'), ('is', 'said'), ('said', 'than')]"
      ]
     },
     "execution_count": 27,
     "metadata": {},
     "output_type": "execute_result"
    }
   ],
   "source": [
    "list(bigrams(['more','is','said','than']))"
   ]
  },
  {
   "cell_type": "code",
   "execution_count": 28,
   "metadata": {},
   "outputs": [
    {
     "ename": "AttributeError",
     "evalue": "'Text' object has no attribute 'collectons'",
     "output_type": "error",
     "traceback": [
      "\u001b[0;31m---------------------------------------------------------------------------\u001b[0m",
      "\u001b[0;31mAttributeError\u001b[0m                            Traceback (most recent call last)",
      "\u001b[0;32m<ipython-input-28-744737aadb7e>\u001b[0m in \u001b[0;36m<module>\u001b[0;34m()\u001b[0m\n\u001b[1;32m      1\u001b[0m \u001b[0;31m## collections\u001b[0m\u001b[0;34m\u001b[0m\u001b[0;34m\u001b[0m\u001b[0m\n\u001b[0;32m----> 2\u001b[0;31m \u001b[0mtext2\u001b[0m\u001b[0;34m.\u001b[0m\u001b[0mcollectons\u001b[0m\u001b[0;34m(\u001b[0m\u001b[0;34m)\u001b[0m\u001b[0;34m\u001b[0m\u001b[0m\n\u001b[0m",
      "\u001b[0;31mAttributeError\u001b[0m: 'Text' object has no attribute 'collectons'"
     ]
    }
   ],
   "source": [
    "## collections\n",
    "text2.collectons()"
   ]
  },
  {
   "cell_type": "code",
   "execution_count": 29,
   "metadata": {},
   "outputs": [
    {
     "ename": "NameError",
     "evalue": "name 'collections' is not defined",
     "output_type": "error",
     "traceback": [
      "\u001b[0;31m---------------------------------------------------------------------------\u001b[0m",
      "\u001b[0;31mNameError\u001b[0m                                 Traceback (most recent call last)",
      "\u001b[0;32m<ipython-input-29-1a799e111783>\u001b[0m in \u001b[0;36m<module>\u001b[0;34m()\u001b[0m\n\u001b[0;32m----> 1\u001b[0;31m \u001b[0mcollections\u001b[0m\u001b[0;34m(\u001b[0m\u001b[0mtext2\u001b[0m\u001b[0;34m)\u001b[0m\u001b[0;34m\u001b[0m\u001b[0m\n\u001b[0m",
      "\u001b[0;31mNameError\u001b[0m: name 'collections' is not defined"
     ]
    }
   ],
   "source": [
    "collections(text2)"
   ]
  },
  {
   "cell_type": "code",
   "execution_count": 30,
   "metadata": {},
   "outputs": [],
   "source": [
    "f2 = FreqDist(len(w) for w in text2)"
   ]
  },
  {
   "cell_type": "code",
   "execution_count": 31,
   "metadata": {},
   "outputs": [
    {
     "data": {
      "text/plain": [
       "FreqDist({3: 28839, 2: 24826, 1: 23009, 4: 21352, 5: 11438, 6: 9507, 7: 8158, 8: 5676, 9: 3736, 10: 2596, ...})"
      ]
     },
     "execution_count": 31,
     "metadata": {},
     "output_type": "execute_result"
    }
   ],
   "source": [
    "f2"
   ]
  },
  {
   "cell_type": "code",
   "execution_count": 32,
   "metadata": {},
   "outputs": [
    {
     "data": {
      "text/plain": [
       "[(3, 28839),\n",
       " (2, 24826),\n",
       " (1, 23009),\n",
       " (4, 21352),\n",
       " (5, 11438),\n",
       " (6, 9507),\n",
       " (7, 8158),\n",
       " (8, 5676),\n",
       " (9, 3736),\n",
       " (10, 2596),\n",
       " (11, 1278),\n",
       " (12, 711),\n",
       " (13, 334),\n",
       " (14, 87),\n",
       " (15, 24),\n",
       " (17, 3),\n",
       " (16, 2)]"
      ]
     },
     "execution_count": 32,
     "metadata": {},
     "output_type": "execute_result"
    }
   ],
   "source": [
    "f2.most_common()"
   ]
  },
  {
   "cell_type": "code",
   "execution_count": 34,
   "metadata": {},
   "outputs": [
    {
     "data": {
      "text/plain": [
       "3"
      ]
     },
     "execution_count": 34,
     "metadata": {},
     "output_type": "execute_result"
    }
   ],
   "source": [
    "f2.max()"
   ]
  },
  {
   "cell_type": "code",
   "execution_count": 36,
   "metadata": {},
   "outputs": [
    {
     "data": {
      "text/plain": [
       "0.20369977962366503"
      ]
     },
     "execution_count": 36,
     "metadata": {},
     "output_type": "execute_result"
    }
   ],
   "source": [
    "f2.freq(3)"
   ]
  },
  {
   "cell_type": "code",
   "execution_count": 37,
   "metadata": {},
   "outputs": [
    {
     "data": {
      "text/plain": [
       "FreqDist({',': 18713, 'the': 13721, '.': 6862, 'of': 6536, 'and': 6024, 'a': 4569, 'to': 4542, ';': 4072, 'in': 3916, 'that': 2982, ...})"
      ]
     },
     "execution_count": 37,
     "metadata": {},
     "output_type": "execute_result"
    }
   ],
   "source": [
    "f"
   ]
  },
  {
   "cell_type": "code",
   "execution_count": 38,
   "metadata": {},
   "outputs": [
    {
     "data": {
      "text/plain": [
       "False"
      ]
     },
     "execution_count": 38,
     "metadata": {},
     "output_type": "execute_result"
    }
   ],
   "source": [
    "'adB'.islower()"
   ]
  },
  {
   "cell_type": "code",
   "execution_count": 39,
   "metadata": {},
   "outputs": [
    {
     "data": {
      "text/plain": [
       "True"
      ]
     },
     "execution_count": 39,
     "metadata": {},
     "output_type": "execute_result"
    }
   ],
   "source": [
    "'as'.isalpha()"
   ]
  },
  {
   "cell_type": "code",
   "execution_count": 40,
   "metadata": {},
   "outputs": [
    {
     "data": {
      "text/plain": [
       "False"
      ]
     },
     "execution_count": 40,
     "metadata": {},
     "output_type": "execute_result"
    }
   ],
   "source": [
    "'asd1'.isalpha()"
   ]
  },
  {
   "cell_type": "code",
   "execution_count": 41,
   "metadata": {},
   "outputs": [
    {
     "data": {
      "text/plain": [
       "True"
      ]
     },
     "execution_count": 41,
     "metadata": {},
     "output_type": "execute_result"
    }
   ],
   "source": [
    "'ads.1'.islower()"
   ]
  },
  {
   "cell_type": "code",
   "execution_count": 43,
   "metadata": {},
   "outputs": [
    {
     "data": {
      "text/plain": [
       "True"
      ]
     },
     "execution_count": 43,
     "metadata": {},
     "output_type": "execute_result"
    }
   ],
   "source": [
    "'This Are 100 Dogs'.istitle()"
   ]
  },
  {
   "cell_type": "code",
   "execution_count": 45,
   "metadata": {},
   "outputs": [
    {
     "data": {
      "text/plain": [
       "True"
      ]
     },
     "execution_count": 45,
     "metadata": {},
     "output_type": "execute_result"
    }
   ],
   "source": [
    "'123123'.isdigit()"
   ]
  },
  {
   "cell_type": "code",
   "execution_count": 50,
   "metadata": {},
   "outputs": [
    {
     "data": {
      "text/plain": [
       "True"
      ]
     },
     "execution_count": 50,
     "metadata": {},
     "output_type": "execute_result"
    }
   ],
   "source": [
    "'hy123'.isalnum()"
   ]
  },
  {
   "cell_type": "code",
   "execution_count": 53,
   "metadata": {},
   "outputs": [
    {
     "data": {
      "text/plain": [
       "['austen-emma.txt',\n",
       " 'austen-persuasion.txt',\n",
       " 'austen-sense.txt',\n",
       " 'bible-kjv.txt',\n",
       " 'blake-poems.txt',\n",
       " 'bryant-stories.txt',\n",
       " 'burgess-busterbrown.txt',\n",
       " 'carroll-alice.txt',\n",
       " 'chesterton-ball.txt',\n",
       " 'chesterton-brown.txt',\n",
       " 'chesterton-thursday.txt',\n",
       " 'edgeworth-parents.txt',\n",
       " 'melville-moby_dick.txt',\n",
       " 'milton-paradise.txt',\n",
       " 'shakespeare-caesar.txt',\n",
       " 'shakespeare-hamlet.txt',\n",
       " 'shakespeare-macbeth.txt',\n",
       " 'whitman-leaves.txt']"
      ]
     },
     "execution_count": 53,
     "metadata": {},
     "output_type": "execute_result"
    }
   ],
   "source": [
    "nltk.corpus.gutenberg.fileids()"
   ]
  },
  {
   "cell_type": "code",
   "execution_count": 57,
   "metadata": {},
   "outputs": [],
   "source": [
    "emma = nltk.corpus.gutenberg.words('austen-emma.txt')"
   ]
  },
  {
   "cell_type": "code",
   "execution_count": 56,
   "metadata": {},
   "outputs": [
    {
     "name": "stdout",
     "output_type": "stream",
     "text": [
      "showing info https://raw.githubusercontent.com/nltk/nltk_data/gh-pages/index.xml\n"
     ]
    },
    {
     "data": {
      "text/plain": [
       "True"
      ]
     },
     "execution_count": 56,
     "metadata": {},
     "output_type": "execute_result"
    }
   ],
   "source": [
    "nltk.download()"
   ]
  },
  {
   "cell_type": "code",
   "execution_count": 58,
   "metadata": {},
   "outputs": [
    {
     "data": {
      "text/plain": [
       "192427"
      ]
     },
     "execution_count": 58,
     "metadata": {},
     "output_type": "execute_result"
    }
   ],
   "source": [
    "len(emma)"
   ]
  },
  {
   "cell_type": "code",
   "execution_count": 59,
   "metadata": {},
   "outputs": [
    {
     "ename": "AttributeError",
     "evalue": "'list' object has no attribute 'replace'",
     "output_type": "error",
     "traceback": [
      "\u001b[0;31m---------------------------------------------------------------------------\u001b[0m",
      "\u001b[0;31mAttributeError\u001b[0m                            Traceback (most recent call last)",
      "\u001b[0;32m<ipython-input-59-be87d8347183>\u001b[0m in \u001b[0;36m<module>\u001b[0;34m()\u001b[0m\n\u001b[1;32m      1\u001b[0m \u001b[0ml\u001b[0m \u001b[0;34m=\u001b[0m \u001b[0;34m[\u001b[0m\u001b[0;36m1\u001b[0m\u001b[0;34m,\u001b[0m\u001b[0;36m2\u001b[0m\u001b[0;34m,\u001b[0m\u001b[0;36m34\u001b[0m\u001b[0;34m,\u001b[0m\u001b[0;36m2\u001b[0m\u001b[0;34m]\u001b[0m\u001b[0;34m\u001b[0m\u001b[0m\n\u001b[0;32m----> 2\u001b[0;31m \u001b[0ml\u001b[0m\u001b[0;34m.\u001b[0m\u001b[0mreplace\u001b[0m\u001b[0;34m(\u001b[0m\u001b[0;36m1\u001b[0m\u001b[0;34m,\u001b[0m\u001b[0;36m4\u001b[0m\u001b[0;34m)\u001b[0m\u001b[0;34m\u001b[0m\u001b[0m\n\u001b[0m",
      "\u001b[0;31mAttributeError\u001b[0m: 'list' object has no attribute 'replace'"
     ]
    }
   ],
   "source": [
    "l = [1,2,34,2]\n",
    "l.replace(1,4)"
   ]
  },
  {
   "cell_type": "code",
   "execution_count": 61,
   "metadata": {},
   "outputs": [
    {
     "data": {
      "text/plain": [
       "'aiay'"
      ]
     },
     "execution_count": 61,
     "metadata": {},
     "output_type": "execute_result"
    }
   ],
   "source": [
    "s = 'lily'.replace('l','a')\n",
    "s"
   ]
  },
  {
   "cell_type": "code",
   "execution_count": null,
   "metadata": {},
   "outputs": [],
   "source": []
  }
 ],
 "metadata": {
  "kernelspec": {
   "display_name": "Python 3",
   "language": "python",
   "name": "python3"
  },
  "language_info": {
   "codemirror_mode": {
    "name": "ipython",
    "version": 3
   },
   "file_extension": ".py",
   "mimetype": "text/x-python",
   "name": "python",
   "nbconvert_exporter": "python",
   "pygments_lexer": "ipython3",
   "version": "3.6.5"
  }
 },
 "nbformat": 4,
 "nbformat_minor": 2
}
