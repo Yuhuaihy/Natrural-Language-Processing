{
 "cells": [
  {
   "cell_type": "markdown",
   "metadata": {},
   "source": [
    "Mutability"
   ]
  },
  {
   "cell_type": "code",
   "execution_count": 1,
   "metadata": {},
   "outputs": [],
   "source": [
    "#lists are mutable\n",
    "l = [1,2]\n",
    "l[1] = 6 # l --pointer [location(ref)+size ], change value, value stored in the ref address changed\n",
    "#tuple  pointer [address+size], refered location locked, no change"
   ]
  },
  {
   "cell_type": "code",
   "execution_count": 3,
   "metadata": {},
   "outputs": [
    {
     "ename": "TypeError",
     "evalue": "'tuple' object does not support item assignment",
     "output_type": "error",
     "traceback": [
      "\u001b[0;31m---------------------------------------------------------------------------\u001b[0m",
      "\u001b[0;31mTypeError\u001b[0m                                 Traceback (most recent call last)",
      "\u001b[0;32m<ipython-input-3-aa0df5540ad0>\u001b[0m in \u001b[0;36m<module>\u001b[0;34m()\u001b[0m\n\u001b[1;32m      1\u001b[0m \u001b[0mt\u001b[0m \u001b[0;34m=\u001b[0m \u001b[0;34m(\u001b[0m\u001b[0;36m1\u001b[0m\u001b[0;34m,\u001b[0m\u001b[0;34m[\u001b[0m\u001b[0;36m2\u001b[0m\u001b[0;34m,\u001b[0m\u001b[0;36m3\u001b[0m\u001b[0;34m]\u001b[0m\u001b[0;34m,\u001b[0m\u001b[0;36m4\u001b[0m\u001b[0;34m)\u001b[0m\u001b[0;34m\u001b[0m\u001b[0m\n\u001b[0;32m----> 2\u001b[0;31m \u001b[0mt\u001b[0m\u001b[0;34m[\u001b[0m\u001b[0;36m1\u001b[0m\u001b[0;34m]\u001b[0m \u001b[0;34m=\u001b[0m \u001b[0;34m[\u001b[0m\u001b[0;36m0\u001b[0m\u001b[0;34m,\u001b[0m\u001b[0;36m3\u001b[0m\u001b[0;34m]\u001b[0m     \u001b[0;31m# ref stored in the tuple unchanged, value stored in list address\u001b[0m\u001b[0;34m\u001b[0m\u001b[0m\n\u001b[0m\u001b[1;32m      3\u001b[0m \u001b[0mprint\u001b[0m\u001b[0;34m(\u001b[0m\u001b[0mt\u001b[0m\u001b[0;34m[\u001b[0m\u001b[0;36m1\u001b[0m\u001b[0;34m]\u001b[0m\u001b[0;34m)\u001b[0m\u001b[0;34m\u001b[0m\u001b[0m\n",
      "\u001b[0;31mTypeError\u001b[0m: 'tuple' object does not support item assignment"
     ]
    }
   ],
   "source": [
    "t = (1,[2,3],4)\n",
    "t[1] = [0,3]     # ref to list changed(not allowed)\n",
    "print(t[1])\n",
    "#why error"
   ]
  },
  {
   "cell_type": "code",
   "execution_count": 10,
   "metadata": {},
   "outputs": [
    {
     "name": "stdout",
     "output_type": "stream",
     "text": [
      "[100, 3]\n",
      "(1, [100, 3], 4)\n"
     ]
    }
   ],
   "source": [
    "t[1][0] = 100\n",
    "print(t[1])\n",
    "print(t)\n",
    "## can goto the list"
   ]
  },
  {
   "cell_type": "code",
   "execution_count": 7,
   "metadata": {},
   "outputs": [
    {
     "name": "stdout",
     "output_type": "stream",
     "text": [
      "(1, 1, 2)\n",
      "3\n"
     ]
    }
   ],
   "source": [
    "a = 1\n",
    "tu = (1,a,2)\n",
    "a = 3\n",
    "print(tu) #unmutable\n",
    "print(a)"
   ]
  },
  {
   "cell_type": "code",
   "execution_count": 14,
   "metadata": {},
   "outputs": [
    {
     "name": "stdout",
     "output_type": "stream",
     "text": [
      "[1, 9]\n",
      "(1, [1, 2], 2)\n"
     ]
    }
   ],
   "source": [
    "a = [1,2]\n",
    "tu = (1,a,2)\n",
    "a = [1,9]\n",
    "print(a)\n",
    "a[1]=100\n",
    "print(tu)"
   ]
  },
  {
   "cell_type": "markdown",
   "metadata": {},
   "source": [
    "Function"
   ]
  },
  {
   "cell_type": "code",
   "execution_count": 15,
   "metadata": {},
   "outputs": [
    {
     "name": "stdout",
     "output_type": "stream",
     "text": [
      "[1]\n",
      "[1, 2]\n",
      "[1, 2]\n"
     ]
    }
   ],
   "source": [
    "def add(element, mylist):\n",
    "    print(mylist)\n",
    "    mylist.append(element)\n",
    "    print(mylist)\n",
    "lst = [1]\n",
    "add(2,lst)\n",
    "print(lst)"
   ]
  },
  {
   "cell_type": "code",
   "execution_count": 16,
   "metadata": {},
   "outputs": [
    {
     "name": "stdout",
     "output_type": "stream",
     "text": [
      "[1, [5, 2], 4]\n"
     ]
    }
   ],
   "source": [
    "lst[:] #copy shallow copy\n",
    "newl = [1,[1,2],4]\n",
    "temp = newl[:]\n",
    "newl[1][0]=5\n",
    "print(temp)"
   ]
  },
  {
   "cell_type": "code",
   "execution_count": 17,
   "metadata": {},
   "outputs": [
    {
     "name": "stdout",
     "output_type": "stream",
     "text": [
      "[1, 2]\n",
      "[]\n",
      "[1, 2]\n"
     ]
    }
   ],
   "source": [
    "def reset(l):\n",
    "    print(l)\n",
    "    l = []\n",
    "    print(l)\n",
    "lst = [1,2]\n",
    "reset(lst)\n",
    "print(lst)"
   ]
  },
  {
   "cell_type": "code",
   "execution_count": 22,
   "metadata": {},
   "outputs": [
    {
     "name": "stdout",
     "output_type": "stream",
     "text": [
      "[1, 2, 4, 11]\n",
      "['as', 'ab', 'asdas']\n"
     ]
    }
   ],
   "source": [
    "li = [1,4,2,11]\n",
    "li.sort()\n",
    "print(li)\n",
    "li2 = ['as','asdas','ab']\n",
    "li2.sort(key=len)  ## key = function\n",
    "print(li2)"
   ]
  },
  {
   "cell_type": "code",
   "execution_count": 20,
   "metadata": {},
   "outputs": [
    {
     "name": "stdout",
     "output_type": "stream",
     "text": [
      "[1, 2, 34, 22]\n"
     ]
    }
   ],
   "source": [
    "l1 = [1,2,34,22]\n",
    "l2 = sorted(l1) ##l1 no change  tuple sort allow\n",
    "print(l1)"
   ]
  },
  {
   "cell_type": "markdown",
   "metadata": {},
   "source": [
    "set, dictionary"
   ]
  },
  {
   "cell_type": "code",
   "execution_count": 24,
   "metadata": {},
   "outputs": [
    {
     "name": "stdout",
     "output_type": "stream",
     "text": [
      "{'x': 11, 'a': 1}\n"
     ]
    }
   ],
   "source": [
    "#dictionary key: unchanged, key hashable , immutable\n",
    "d = {'x':11}\n",
    "d.keys() #python2 list python3 list-like\n",
    "d.update({'a':1})\n",
    "print(d)"
   ]
  },
  {
   "cell_type": "code",
   "execution_count": 25,
   "metadata": {},
   "outputs": [
    {
     "data": {
      "text/plain": [
       "'no'"
      ]
     },
     "execution_count": 25,
     "metadata": {},
     "output_type": "execute_result"
    }
   ],
   "source": [
    "d.get('b','no')\n"
   ]
  },
  {
   "cell_type": "code",
   "execution_count": 27,
   "metadata": {},
   "outputs": [
    {
     "name": "stdout",
     "output_type": "stream",
     "text": [
      "[('x', 11), ('a', 1)]\n"
     ]
    }
   ],
   "source": [
    "from operator import itemgetter\n",
    "d2 = sorted(d.items(), key = itemgetter(1), reverse=True)\n",
    "print(d2)\n"
   ]
  },
  {
   "cell_type": "markdown",
   "metadata": {},
   "source": [
    "0928 pure python"
   ]
  },
  {
   "cell_type": "code",
   "execution_count": 1,
   "metadata": {},
   "outputs": [
    {
     "name": "stdout",
     "output_type": "stream",
     "text": [
      "{'user': 'bozo', 'p': 123, 'i': 4, 'class': 'syntax', 'room': 'asd'}\n"
     ]
    }
   ],
   "source": [
    "##dict update\n",
    "d = {'user':'bozo', 'p':123, 'i':2}\n",
    "d1 = {'class':'syntax', 'room':'asd','i':4}\n",
    "d.update(d1)\n",
    "print(d)"
   ]
  },
  {
   "cell_type": "code",
   "execution_count": 8,
   "metadata": {},
   "outputs": [
    {
     "name": "stdout",
     "output_type": "stream",
     "text": [
      "[' The dog is asleep in a basket']\n",
      " The dog is asleep in a basket\n"
     ]
    }
   ],
   "source": [
    "determiners = ['a', 'the', 'an']\n",
    "text = [' The dog is asleep in a basket']\n",
    "text = text.split()\n",
    "tokens = [t for t in text if t.lower() not in determiners]\n",
    "print(tokens)\n",
    "a = ' '.join(tokens)\n",
    "print(a)\n"
   ]
  },
  {
   "cell_type": "code",
   "execution_count": 12,
   "metadata": {},
   "outputs": [
    {
     "name": "stdout",
     "output_type": "stream",
     "text": [
      "['a', 's', 's', 'd', 'f', 's', 'g']\n"
     ]
    }
   ],
   "source": [
    "s = list('asfgsdfsg')\n",
    "s[2:4] = []\n",
    "print(s)\n",
    "##remove"
   ]
  },
  {
   "cell_type": "code",
   "execution_count": 13,
   "metadata": {},
   "outputs": [
    {
     "name": "stdout",
     "output_type": "stream",
     "text": [
      "['a', 'd', 'f', 's', 'g']\n"
     ]
    }
   ],
   "source": [
    "del s[1:3]\n",
    "print(s)\n",
    "###remove"
   ]
  },
  {
   "cell_type": "code",
   "execution_count": 14,
   "metadata": {},
   "outputs": [
    {
     "name": "stdout",
     "output_type": "stream",
     "text": [
      "['a', 's', 'g']\n"
     ]
    }
   ],
   "source": [
    "s[1:3] = ''\n",
    "print(s)"
   ]
  },
  {
   "cell_type": "code",
   "execution_count": 1,
   "metadata": {},
   "outputs": [
    {
     "name": "stdout",
     "output_type": "stream",
     "text": [
      "4\n",
      "5\n",
      "6\n",
      "7\n",
      "8\n",
      "9\n",
      "10\n",
      "----now 10\n"
     ]
    }
   ],
   "source": [
    "x = 3\n",
    "while x<10:\n",
    "    x += 1\n",
    "    print(x)\n",
    "print('----now',x)"
   ]
  },
  {
   "cell_type": "code",
   "execution_count": 2,
   "metadata": {},
   "outputs": [
    {
     "name": "stdout",
     "output_type": "stream",
     "text": [
      "put namehy\n"
     ]
    },
    {
     "data": {
      "text/plain": [
       "'hy'"
      ]
     },
     "execution_count": 2,
     "metadata": {},
     "output_type": "execute_result"
    }
   ],
   "source": [
    "input('put name')"
   ]
  },
  {
   "cell_type": "code",
   "execution_count": 4,
   "metadata": {},
   "outputs": [],
   "source": [
    "file = 'Train-1.txt'"
   ]
  },
  {
   "cell_type": "code",
   "execution_count": 5,
   "metadata": {},
   "outputs": [
    {
     "name": "stdout",
     "output_type": "stream",
     "text": [
      "Last login: Thu Mar 30 01:11:38 on ttys000\n",
      "\n",
      "AppledeMacBook-Pro-3:~ hy$ ls\n",
      "\n",
      "AnacondaProjects\tDownloads\t\tPublic\n",
      "\n",
      "AndroidStudioProjects\tLibrary\t\t\tPycharmProjects\n",
      "\n",
      "Applications\t\tMovies\t\t\tVM Library\n",
      "\n",
      "Desktop\t\t\tMusic\t\t\txgboost\n",
      "\n",
      "Documents\t\tPictures\n",
      "\n",
      "AppledeMacBook-Pro-3:~ hy$ cd Desktop/deep-qa-master\n",
      "\n",
      "AppledeMacBook-Pro-3:deep-qa-master hy$ ls\n",
      "\n",
      "README.md\t\t\t\tnn_layers.pyc\n",
      "\n",
      "TRAIN\t\t\t\t\tparse.py\n",
      "\n",
      "TRAIN-ALL\t\t\t\trun_build_datasets.sh\n",
      "\n",
      "alphabet.py\t\t\t\trun_eval.sh\n",
      "\n",
      "alphabet.pyc\t\t\t\trun_nnet.py\n",
      "\n",
      "conv1d.py\t\t\t\tsgd_trainer.py\n",
      "\n",
      "embeddings\t\t\t\ttrec_eval-8.0\n",
      "\n",
      "extract_embeddings.py\t\t\tutils.py\n",
      "\n",
      "jacana-qa-naacl2013-data-results\tutils.pyc\n",
      "\n",
      "nn_layers.py\n",
      "\n",
      "AppledeMacBook-Pro-3:deep-qa-master hy$ python run_nnet.py TRAIN\n",
      "\n",
      "Running training in the TRAIN setting\n",
      "\n",
      "y_train (array([0, 1], dtype=int32), array([4370,  348]))\n",
      "\n",
      "y_dev (array([0, 1], dtype=int32), array([926, 222]))\n",
      "\n",
      "y_test (array([0, 1], dtype=int32), array([1233,  284]))\n",
      "\n",
      "q_train (4718, 33)\n",
      "\n",
      "q_dev (1148, 33)\n",
      "\n",
      "q_test (1517, 33)\n",
      "\n",
      "a_train (4718, 40)\n",
      "\n",
      "a_dev (1148, 40)\n",
      "\n",
      "a_test (1517, 40)\n",
      "\n",
      "Generating random vocabulary for word overlap indicator features with dim: 5\n",
      "\n",
      "Gaussian\n",
      "\n",
      "Loading word embeddings from TRAIN/emb_aquaint+wiki.txt.gz.ndim=50.bin.npy\n",
      "\n",
      "Word embedding matrix size: (17023, 50)\n",
      "\n",
      "batch_size 50\n",
      "\n",
      "n_epochs 25\n",
      "\n",
      "learning_rate 0.1\n",
      "\n",
      "max_norm 0\n",
      "\n",
      "Training nnet [num params: 106236]\n",
      "\n",
      "\tFeedForwardNet [num params: 27615]\n",
      "\n",
      "\t\tParallelLookupTable [num params: 15]\n",
      "\n",
      "\t\t\tLookupTableFastStatic: [17023    50]\n",
      "\n",
      "\t\t\tLookupTableFast: [3 5]\n",
      "\n",
      "\t\tParallelLayer [num params: 27600]\n",
      "\n",
      "\t\t\tFeedForwardNet [num params: 27600]\n",
      "\n",
      "\t\t\t\tConv2dLayer: filter_shape=[100   1   5  55]; input_shape=(50, 1, 41, 55)\n",
      "\n",
      "\t\t\t\tNonLinearityLayer: b_shape=[100] activation=Elemwise{tanh,no_inplace}\n",
      "\n",
      "\t\t\t\tKMaxPoolLayer: k_max=1\n",
      "\n",
      "\t\tFlattenLayer\n",
      "\n",
      "\tFeedForwardNet [num params: 27615]\n",
      "\n",
      "\t\tParallelLookupTable [num params: 15]\n",
      "\n",
      "\t\t\tLookupTableFastStatic: [17023    50]\n",
      "\n",
      "\t\t\tLookupTableFast: [3 5]\n",
      "\n",
      "\t\tParallelLayer [num params: 27600]\n",
      "\n",
      "\t\t\tFeedForwardNet [num params: 27600]\n",
      "\n",
      "\t\t\t\tConv2dLayer: filter_shape=[100   1   5  55]; input_shape=(50, 1, 48, 55)\n",
      "\n",
      "\t\t\t\tNonLinearityLayer: b_shape=[100] activation=Elemwise{tanh,no_inplace}\n",
      "\n",
      "\t\t\t\tKMaxPoolLayer: k_max=1\n",
      "\n",
      "\t\tFlattenLayer\n",
      "\n",
      "\tPairwiseNoFeatsLayer: W=[100 100]\n",
      "\n",
      "\tLinearLayer: W_shape=[201 201] b_shape=[201] activation=Elemwise{tanh,no_inplace}\n",
      "\n",
      "\tLogisticRegression: W=[201   2], b=[2]\n",
      "\n",
      "Saving to exp.out/ndim=55;batch=50;max_norm=0;learning_rate=0.1;2017-03-30-01.35.39/nnet.dat\n",
      "\n",
      "Total params number: 106236\n",
      "\n",
      "Generating adadelta updates\n",
      "\n",
      "labels [0, 1]\n",
      "\n",
      "Zero out dummy word: True\n",
      "\n",
      "  9%|████▏                                       | 9/95 [00:01<00:12,  6.64it/s]epoch: 0 batch: 10 dev auc: 51.3241; test map: 51.5188; best_dev_acc: -inf\n",
      "\n",
      " 20%|████████▌                                  | 19/95 [00:04<00:12,  5.98it/s]epoch: 0 batch: 20 dev auc: 54.5770; test map: 52.8630; best_dev_acc: 51.3241\n",
      "\n",
      " 31%|█████████████▏                             | 29/95 [00:08<00:11,  5.90it/s]epoch: 0 batch: 30 dev auc: 54.7623; test map: 54.4359; best_dev_acc: 54.5770\n",
      "\n",
      " 41%|█████████████████▋                         | 39/95 [00:11<00:09,  5.89it/s]epoch: 0 batch: 40 dev auc: 57.3901; test map: 56.9395; best_dev_acc: 54.7623\n",
      "\n",
      " 52%|██████████████████████▏                    | 49/95 [00:15<00:07,  5.92it/s]epoch: 0 batch: 50 dev auc: 59.8632; test map: 59.2742; best_dev_acc: 57.3901\n",
      "\n",
      " 62%|██████████████████████████▋                | 59/95 [00:18<00:06,  5.94it/s]epoch: 0 batch: 60 dev auc: 63.6867; test map: 60.6860; best_dev_acc: 59.8632\n",
      "\n",
      " 73%|███████████████████████████████▏           | 69/95 [00:21<00:04,  5.93it/s]epoch: 0 batch: 70 dev auc: 65.5877; test map: 61.5946; best_dev_acc: 63.6867\n",
      "\n",
      " 83%|███████████████████████████████████▊       | 79/95 [00:25<00:02,  5.95it/s]epoch: 0 batch: 80 dev auc: 67.9164; test map: 64.2870; best_dev_acc: 65.5877\n",
      "\n",
      " 94%|████████████████████████████████████████▎  | 89/95 [00:28<00:01,  5.93it/s]epoch: 0 batch: 90 dev auc: 70.2367; test map: 66.7936; best_dev_acc: 67.9164\n",
      "\n",
      " 99%|██████████████████████████████████████████▌| 94/95 [00:31<00:00,  3.47it/s]epoch: 0 batch: 95 dev auc: 70.4532; test map: 66.2115; best_dev_acc: 70.2367\n",
      "\n",
      "100%|███████████████████████████████████████████| 95/95 [00:33<00:00,  1.20it/s]\n",
      "\n",
      "epoch 0 took 33.4883 seconds\n",
      "\n",
      "  9%|████▏                                       | 9/95 [00:01<00:12,  6.90it/s]epoch: 1 batch: 10 dev auc: 70.6784; test map: 66.6694; best_dev_acc: 70.4532\n",
      "\n",
      " 20%|████████▌                                  | 19/95 [00:04<00:12,  5.94it/s]epoch: 1 batch: 20 dev auc: 73.1213; test map: 69.3785; best_dev_acc: 70.6784\n",
      "\n",
      " 31%|█████████████▏                             | 29/95 [00:08<00:11,  5.92it/s]epoch: 1 batch: 30 dev auc: 74.7704; test map: 70.4581; best_dev_acc: 73.1213\n",
      "\n",
      " 41%|█████████████████▋                         | 39/95 [00:11<00:09,  5.98it/s]epoch: 1 batch: 40 dev auc: 74.7850; test map: 69.8044; best_dev_acc: 74.7704\n",
      "\n",
      " 52%|██████████████████████▏                    | 49/95 [00:14<00:07,  5.91it/s]epoch: 1 batch: 50 dev auc: 75.4198; test map: 70.8307; best_dev_acc: 74.7850\n",
      "\n",
      " 62%|██████████████████████████▋                | 59/95 [00:18<00:06,  5.96it/s]epoch: 1 batch: 60 dev auc: 75.9953; test map: 70.9322; best_dev_acc: 75.4198\n",
      "\n",
      " 73%|███████████████████████████████▏           | 69/95 [00:21<00:04,  5.92it/s]epoch: 1 batch: 70 dev auc: 76.2473; test map: 70.2639; best_dev_acc: 75.9953\n",
      "\n",
      " 94%|████████████████████████████████████████▎  | 89/95 [00:27<00:00,  6.48it/s]epoch: 1 batch: 90 dev auc: 76.2764; test map: 71.5670; best_dev_acc: 76.2473\n",
      "\n",
      " 99%|██████████████████████████████████████████▌| 94/95 [00:30<00:00,  3.47it/s]epoch: 1 batch: 95 dev auc: 76.3475; test map: 71.5628; best_dev_acc: 76.2764\n",
      "\n",
      "100%|███████████████████████████████████████████| 95/95 [00:32<00:00,  1.20it/s]\n",
      "\n",
      "epoch 1 took 32.2401 seconds\n",
      "\n",
      " 20%|████████▌                                  | 19/95 [00:03<00:11,  6.48it/s]epoch: 2 batch: 20 dev auc: 76.5814; test map: 70.8654; best_dev_acc: 76.3475\n",
      "\n",
      " 31%|█████████████▏                             | 29/95 [00:06<00:11,  5.92it/s]epoch: 2 batch: 30 dev auc: 76.8777; test map: 70.7632; best_dev_acc: 76.5814\n",
      "\n",
      " 52%|██████████████████████▏                    | 49/95 [00:12<00:07,  6.45it/s]epoch: 2 batch: 50 dev auc: 77.2634; test map: 70.7037; best_dev_acc: 76.8777\n",
      "\n",
      " 73%|███████████████████████████████▏           | 69/95 [00:18<00:04,  6.42it/s]epoch: 2 batch: 70 dev auc: 78.0097; test map: 70.1412; best_dev_acc: 77.2634\n",
      "\n",
      "100%|███████████████████████████████████████████| 95/95 [00:26<00:00,  2.28it/s]\n",
      "\n",
      "epoch 2 took 26.6350 seconds\n",
      "\n",
      "  9%|████▏                                       | 9/95 [00:01<00:12,  6.97it/s]epoch: 3 batch: 10 dev auc: 79.4014; test map: 70.8701; best_dev_acc: 78.0097\n",
      "\n",
      "100%|███████████████████████████████████████████| 95/95 [00:23<00:00,  2.27it/s]\n",
      "\n",
      "epoch 3 took 23.7798 seconds\n",
      "\n",
      "100%|██████████████████████████████████████████████████████████████████████████████████████████████████████████████████████████████████████████████| 95/95 [00:22<00:00,  2.27it/s]\n",
      "\n",
      "epoch 4 took 22.1388 seconds\n",
      "\n",
      "100%|██████████████████████████████████████████████████████████████████████████████████████████████████████████████████████████████████████████████| 95/95 [00:22<00:00,  2.28it/s]\n",
      "\n",
      "epoch 5 took 22.0633 seconds\n",
      "\n",
      " 41%|██████████████████████████████████████████████████████████▎                                                                                   | 39/95 [00:08<00:08,  6.45it/s]epoch: 6 batch: 40 dev auc: 79.4889; test map: 73.2461; best_dev_acc: 79.4014\n",
      "\n",
      "100%|██████████████████████████████████████████████████████████████████████████████████████████████████████████████████████████████████████████████| 95/95 [00:23<00:00,  2.28it/s]\n",
      "\n",
      "epoch 6 took 23.2209 seconds\n",
      "\n",
      "100%|██████████████████████████████████████████████████████████████████████████████████████████████████████████████████████████████████████████████| 95/95 [00:22<00:00,  2.27it/s]\n",
      "\n",
      "epoch 7 took 22.1200 seconds\n",
      "\n",
      "100%|██████████████████████████████████████████████████████████████████████████████████████████████████████████████████████████████████████████████| 95/95 [00:22<00:00,  2.28it/s]\n",
      "\n",
      "epoch 8 took 22.1004 seconds\n",
      "\n",
      "100%|██████████████████████████████████████████████████████████████████████████████████████████████████████████████████████████████████████████████| 95/95 [00:22<00:00,  2.29it/s]\n",
      "\n",
      "Quitting after of no update of the best score on dev set 3\n",
      "\n",
      "Training took: 249.8514 seconds\n",
      "\n",
      "Running trec_eval script...\n",
      "\n",
      "map            \tall\t0.7325\n",
      "\n",
      "recip_rank     \tall\t0.8018\n",
      "\n",
      "AppledeMacBook-Pro-3:deep-qa-master hy$ \n",
      "\n"
     ]
    }
   ],
   "source": [
    "## read from a file\n",
    "f = open(file,'r')\n",
    "lines = f.readlines()  ##list\n",
    "long_string = f.read()  ###string\n",
    "for line in lines:\n",
    "    print(line)\n"
   ]
  },
  {
   "cell_type": "code",
   "execution_count": 7,
   "metadata": {},
   "outputs": [
    {
     "name": "stdout",
     "output_type": "stream",
     "text": [
      "-f\n"
     ]
    }
   ],
   "source": [
    "##read a file from command line\n",
    "import sys\n",
    "a = sys.argv[1]\n",
    "\n",
    "print(a)\n"
   ]
  },
  {
   "cell_type": "code",
   "execution_count": 12,
   "metadata": {},
   "outputs": [],
   "source": [
    "##test  assert\n",
    "a = 4\n",
    "assert a == 4"
   ]
  },
  {
   "cell_type": "code",
   "execution_count": null,
   "metadata": {},
   "outputs": [],
   "source": [
    "def ex(lst1, lst2):\n",
    "    \n",
    "## [1,2,3] [4,5] print [1,4],[2,5]\n",
    "    "
   ]
  }
 ],
 "metadata": {
  "kernelspec": {
   "display_name": "Python 3",
   "language": "python",
   "name": "python3"
  },
  "language_info": {
   "codemirror_mode": {
    "name": "ipython",
    "version": 3
   },
   "file_extension": ".py",
   "mimetype": "text/x-python",
   "name": "python",
   "nbconvert_exporter": "python",
   "pygments_lexer": "ipython3",
   "version": "3.6.5"
  }
 },
 "nbformat": 4,
 "nbformat_minor": 2
}
