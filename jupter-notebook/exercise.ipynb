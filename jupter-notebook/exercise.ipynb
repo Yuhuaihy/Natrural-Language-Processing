{
 "cells": [
  {
   "cell_type": "markdown",
   "metadata": {},
   "source": [
    "Create a function that takes two lists each with some number of elements where the elements are either strings or numbers. The lists do not have to be of the same length.\n",
    "The function should do the following:\n",
    "1.  Print element pairs, 1st of list one with 1st of list two, 2nd of list one with 2nd of list two, etcetera.\n",
    "2.  For each integer, do not print the integer but print the square of the integer.\n",
    "3.  If one of the lists is longer, print the remainder."
   ]
  },
  {
   "cell_type": "code",
   "execution_count": 4,
   "metadata": {},
   "outputs": [
    {
     "name": "stdout",
     "output_type": "stream",
     "text": [
      "[16, 'asd', 36]\n"
     ]
    },
    {
     "data": {
      "text/plain": [
       "[[1, 4], [4, 'b'], ['a', 9]]"
      ]
     },
     "execution_count": 4,
     "metadata": {},
     "output_type": "execute_result"
    }
   ],
   "source": [
    "def ex1(lst1, lst2):\n",
    "    def convert(x):\n",
    "        return x**2 if type(x)==int else x\n",
    "    length = len(lst2) if len(lst2) < len(lst1) else len(lst1)\n",
    "    result = []\n",
    "    for i in range(length):\n",
    "        \n",
    "        result.append([convert(lst1[i]),convert(lst2[i])])\n",
    "    print([convert(a) for a in lst1[length:]] + [convert(a) for a in lst2[length:]])\n",
    "    \n",
    "    return result\n",
    "        \n",
    "lst1 = [1,2,'a',4,'asd',6]\n",
    "lst2 = [2,'b',3]\n",
    "ex1(lst1,lst2)"
   ]
  },
  {
   "cell_type": "code",
   "execution_count": 6,
   "metadata": {},
   "outputs": [
    {
     "name": "stdout",
     "output_type": "stream",
     "text": [
      "(1, 2)\n",
      "(2, 'b')\n",
      "('a', 3)\n"
     ]
    }
   ],
   "source": [
    "for x,y in zip(lst1,lst2):\n",
    "    print((x,y))"
   ]
  },
  {
   "cell_type": "code",
   "execution_count": 7,
   "metadata": {},
   "outputs": [
    {
     "name": "stdout",
     "output_type": "stream",
     "text": [
      "(1, 2)\n",
      "(2, 'b')\n",
      "('a', 3)\n",
      "(4, None)\n",
      "('asd', None)\n",
      "(6, None)\n"
     ]
    }
   ],
   "source": [
    "##zip_longest\n",
    "import itertools as it\n",
    "for x,y in it.zip_longest(lst1,lst2):\n",
    "    print((x,y))\n",
    "    "
   ]
  },
  {
   "cell_type": "code",
   "execution_count": 8,
   "metadata": {},
   "outputs": [
    {
     "data": {
      "text/plain": [
       "True"
      ]
     },
     "execution_count": 8,
     "metadata": {},
     "output_type": "execute_result"
    }
   ],
   "source": [
    "value = 12\n",
    "isinstance(value,int)"
   ]
  },
  {
   "cell_type": "markdown",
   "metadata": {},
   "source": [
    "## Read From File"
   ]
  },
  {
   "cell_type": "code",
   "execution_count": 14,
   "metadata": {},
   "outputs": [
    {
     "name": "stdout",
     "output_type": "stream",
     "text": [
      "Last login: Thu Mar 30 01:11:38 on ttys000\n",
      "\n",
      "AppledeMacBook-Pro-3:~ hy$ ls\n",
      "\n",
      "AnacondaProjects\tDownloads\t\tPublic\n",
      "\n",
      "AndroidStudioProjects\tLibrary\t\t\tPycharmProjects\n",
      "\n",
      "Applications\t\tMovies\t\t\tVM Library\n",
      "\n",
      "Desktop\t\t\tMusic\t\t\txgboost\n",
      "\n",
      "Documents\t\tPictures\n",
      "\n",
      "AppledeMacBook-Pro-3:~ hy$ cd Desktop/deep-qa-master\n",
      "\n",
      "AppledeMacBook-Pro-3:deep-qa-master hy$ ls\n",
      "\n",
      "README.md\t\t\t\tnn_layers.pyc\n",
      "\n",
      "TRAIN\t\t\t\t\tparse.py\n",
      "\n",
      "TRAIN-ALL\t\t\t\trun_build_datasets.sh\n",
      "\n",
      "alphabet.py\t\t\t\trun_eval.sh\n",
      "\n",
      "alphabet.pyc\t\t\t\trun_nnet.py\n",
      "\n",
      "conv1d.py\t\t\t\tsgd_trainer.py\n",
      "\n",
      "embeddings\t\t\t\ttrec_eval-8.0\n",
      "\n",
      "extract_embeddings.py\t\t\tutils.py\n",
      "\n",
      "jacana-qa-naacl2013-data-results\tutils.pyc\n",
      "\n",
      "nn_layers.py\n",
      "\n",
      "AppledeMacBook-Pro-3:deep-qa-master hy$ python run_nnet.py TRAIN\n",
      "\n",
      "Running training in the TRAIN setting\n",
      "\n",
      "y_train (array([0, 1], dtype=int32), array([4370,  348]))\n",
      "\n",
      "y_dev (array([0, 1], dtype=int32), array([926, 222]))\n",
      "\n",
      "y_test (array([0, 1], dtype=int32), array([1233,  284]))\n",
      "\n",
      "q_train (4718, 33)\n",
      "\n",
      "q_dev (1148, 33)\n",
      "\n",
      "q_test (1517, 33)\n",
      "\n",
      "a_train (4718, 40)\n",
      "\n",
      "a_dev (1148, 40)\n",
      "\n",
      "a_test (1517, 40)\n",
      "\n",
      "Generating random vocabulary for word overlap indicator features with dim: 5\n",
      "\n",
      "Gaussian\n",
      "\n",
      "Loading word embeddings from TRAIN/emb_aquaint+wiki.txt.gz.ndim=50.bin.npy\n",
      "\n",
      "Word embedding matrix size: (17023, 50)\n",
      "\n",
      "batch_size 50\n",
      "\n",
      "n_epochs 25\n",
      "\n",
      "learning_rate 0.1\n",
      "\n",
      "max_norm 0\n",
      "\n",
      "Training nnet [num params: 106236]\n",
      "\n",
      "\tFeedForwardNet [num params: 27615]\n",
      "\n",
      "\t\tParallelLookupTable [num params: 15]\n",
      "\n",
      "\t\t\tLookupTableFastStatic: [17023    50]\n",
      "\n",
      "\t\t\tLookupTableFast: [3 5]\n",
      "\n",
      "\t\tParallelLayer [num params: 27600]\n",
      "\n",
      "\t\t\tFeedForwardNet [num params: 27600]\n",
      "\n",
      "\t\t\t\tConv2dLayer: filter_shape=[100   1   5  55]; input_shape=(50, 1, 41, 55)\n",
      "\n",
      "\t\t\t\tNonLinearityLayer: b_shape=[100] activation=Elemwise{tanh,no_inplace}\n",
      "\n",
      "\t\t\t\tKMaxPoolLayer: k_max=1\n",
      "\n",
      "\t\tFlattenLayer\n",
      "\n",
      "\tFeedForwardNet [num params: 27615]\n",
      "\n",
      "\t\tParallelLookupTable [num params: 15]\n",
      "\n",
      "\t\t\tLookupTableFastStatic: [17023    50]\n",
      "\n",
      "\t\t\tLookupTableFast: [3 5]\n",
      "\n",
      "\t\tParallelLayer [num params: 27600]\n",
      "\n",
      "\t\t\tFeedForwardNet [num params: 27600]\n",
      "\n",
      "\t\t\t\tConv2dLayer: filter_shape=[100   1   5  55]; input_shape=(50, 1, 48, 55)\n",
      "\n",
      "\t\t\t\tNonLinearityLayer: b_shape=[100] activation=Elemwise{tanh,no_inplace}\n",
      "\n",
      "\t\t\t\tKMaxPoolLayer: k_max=1\n",
      "\n",
      "\t\tFlattenLayer\n",
      "\n",
      "\tPairwiseNoFeatsLayer: W=[100 100]\n",
      "\n",
      "\tLinearLayer: W_shape=[201 201] b_shape=[201] activation=Elemwise{tanh,no_inplace}\n",
      "\n",
      "\tLogisticRegression: W=[201   2], b=[2]\n",
      "\n",
      "Saving to exp.out/ndim=55;batch=50;max_norm=0;learning_rate=0.1;2017-03-30-01.35.39/nnet.dat\n",
      "\n",
      "Total params number: 106236\n",
      "\n",
      "Generating adadelta updates\n",
      "\n",
      "labels [0, 1]\n",
      "\n",
      "Zero out dummy word: True\n",
      "\n",
      "  9%|████▏                                       | 9/95 [00:01<00:12,  6.64it/s]epoch: 0 batch: 10 dev auc: 51.3241; test map: 51.5188; best_dev_acc: -inf\n",
      "\n",
      " 20%|████████▌                                  | 19/95 [00:04<00:12,  5.98it/s]epoch: 0 batch: 20 dev auc: 54.5770; test map: 52.8630; best_dev_acc: 51.3241\n",
      "\n",
      " 31%|█████████████▏                             | 29/95 [00:08<00:11,  5.90it/s]epoch: 0 batch: 30 dev auc: 54.7623; test map: 54.4359; best_dev_acc: 54.5770\n",
      "\n",
      " 41%|█████████████████▋                         | 39/95 [00:11<00:09,  5.89it/s]epoch: 0 batch: 40 dev auc: 57.3901; test map: 56.9395; best_dev_acc: 54.7623\n",
      "\n",
      " 52%|██████████████████████▏                    | 49/95 [00:15<00:07,  5.92it/s]epoch: 0 batch: 50 dev auc: 59.8632; test map: 59.2742; best_dev_acc: 57.3901\n",
      "\n",
      " 62%|██████████████████████████▋                | 59/95 [00:18<00:06,  5.94it/s]epoch: 0 batch: 60 dev auc: 63.6867; test map: 60.6860; best_dev_acc: 59.8632\n",
      "\n",
      " 73%|███████████████████████████████▏           | 69/95 [00:21<00:04,  5.93it/s]epoch: 0 batch: 70 dev auc: 65.5877; test map: 61.5946; best_dev_acc: 63.6867\n",
      "\n",
      " 83%|███████████████████████████████████▊       | 79/95 [00:25<00:02,  5.95it/s]epoch: 0 batch: 80 dev auc: 67.9164; test map: 64.2870; best_dev_acc: 65.5877\n",
      "\n",
      " 94%|████████████████████████████████████████▎  | 89/95 [00:28<00:01,  5.93it/s]epoch: 0 batch: 90 dev auc: 70.2367; test map: 66.7936; best_dev_acc: 67.9164\n",
      "\n",
      " 99%|██████████████████████████████████████████▌| 94/95 [00:31<00:00,  3.47it/s]epoch: 0 batch: 95 dev auc: 70.4532; test map: 66.2115; best_dev_acc: 70.2367\n",
      "\n",
      "100%|███████████████████████████████████████████| 95/95 [00:33<00:00,  1.20it/s]\n",
      "\n",
      "epoch 0 took 33.4883 seconds\n",
      "\n",
      "  9%|████▏                                       | 9/95 [00:01<00:12,  6.90it/s]epoch: 1 batch: 10 dev auc: 70.6784; test map: 66.6694; best_dev_acc: 70.4532\n",
      "\n",
      " 20%|████████▌                                  | 19/95 [00:04<00:12,  5.94it/s]epoch: 1 batch: 20 dev auc: 73.1213; test map: 69.3785; best_dev_acc: 70.6784\n",
      "\n",
      " 31%|█████████████▏                             | 29/95 [00:08<00:11,  5.92it/s]epoch: 1 batch: 30 dev auc: 74.7704; test map: 70.4581; best_dev_acc: 73.1213\n",
      "\n",
      " 41%|█████████████████▋                         | 39/95 [00:11<00:09,  5.98it/s]epoch: 1 batch: 40 dev auc: 74.7850; test map: 69.8044; best_dev_acc: 74.7704\n",
      "\n",
      " 52%|██████████████████████▏                    | 49/95 [00:14<00:07,  5.91it/s]epoch: 1 batch: 50 dev auc: 75.4198; test map: 70.8307; best_dev_acc: 74.7850\n",
      "\n",
      " 62%|██████████████████████████▋                | 59/95 [00:18<00:06,  5.96it/s]epoch: 1 batch: 60 dev auc: 75.9953; test map: 70.9322; best_dev_acc: 75.4198\n",
      "\n",
      " 73%|███████████████████████████████▏           | 69/95 [00:21<00:04,  5.92it/s]epoch: 1 batch: 70 dev auc: 76.2473; test map: 70.2639; best_dev_acc: 75.9953\n",
      "\n",
      " 94%|████████████████████████████████████████▎  | 89/95 [00:27<00:00,  6.48it/s]epoch: 1 batch: 90 dev auc: 76.2764; test map: 71.5670; best_dev_acc: 76.2473\n",
      "\n",
      " 99%|██████████████████████████████████████████▌| 94/95 [00:30<00:00,  3.47it/s]epoch: 1 batch: 95 dev auc: 76.3475; test map: 71.5628; best_dev_acc: 76.2764\n",
      "\n",
      "100%|███████████████████████████████████████████| 95/95 [00:32<00:00,  1.20it/s]\n",
      "\n",
      "epoch 1 took 32.2401 seconds\n",
      "\n",
      " 20%|████████▌                                  | 19/95 [00:03<00:11,  6.48it/s]epoch: 2 batch: 20 dev auc: 76.5814; test map: 70.8654; best_dev_acc: 76.3475\n",
      "\n",
      " 31%|█████████████▏                             | 29/95 [00:06<00:11,  5.92it/s]epoch: 2 batch: 30 dev auc: 76.8777; test map: 70.7632; best_dev_acc: 76.5814\n",
      "\n",
      " 52%|██████████████████████▏                    | 49/95 [00:12<00:07,  6.45it/s]epoch: 2 batch: 50 dev auc: 77.2634; test map: 70.7037; best_dev_acc: 76.8777\n",
      "\n",
      " 73%|███████████████████████████████▏           | 69/95 [00:18<00:04,  6.42it/s]epoch: 2 batch: 70 dev auc: 78.0097; test map: 70.1412; best_dev_acc: 77.2634\n",
      "\n",
      "100%|███████████████████████████████████████████| 95/95 [00:26<00:00,  2.28it/s]\n",
      "\n",
      "epoch 2 took 26.6350 seconds\n",
      "\n",
      "  9%|████▏                                       | 9/95 [00:01<00:12,  6.97it/s]epoch: 3 batch: 10 dev auc: 79.4014; test map: 70.8701; best_dev_acc: 78.0097\n",
      "\n",
      "100%|███████████████████████████████████████████| 95/95 [00:23<00:00,  2.27it/s]\n",
      "\n",
      "epoch 3 took 23.7798 seconds\n",
      "\n",
      "100%|██████████████████████████████████████████████████████████████████████████████████████████████████████████████████████████████████████████████| 95/95 [00:22<00:00,  2.27it/s]\n",
      "\n",
      "epoch 4 took 22.1388 seconds\n",
      "\n",
      "100%|██████████████████████████████████████████████████████████████████████████████████████████████████████████████████████████████████████████████| 95/95 [00:22<00:00,  2.28it/s]\n",
      "\n",
      "epoch 5 took 22.0633 seconds\n",
      "\n",
      " 41%|██████████████████████████████████████████████████████████▎                                                                                   | 39/95 [00:08<00:08,  6.45it/s]epoch: 6 batch: 40 dev auc: 79.4889; test map: 73.2461; best_dev_acc: 79.4014\n",
      "\n",
      "100%|██████████████████████████████████████████████████████████████████████████████████████████████████████████████████████████████████████████████| 95/95 [00:23<00:00,  2.28it/s]\n",
      "\n",
      "epoch 6 took 23.2209 seconds\n",
      "\n",
      "100%|██████████████████████████████████████████████████████████████████████████████████████████████████████████████████████████████████████████████| 95/95 [00:22<00:00,  2.27it/s]\n",
      "\n",
      "epoch 7 took 22.1200 seconds\n",
      "\n",
      "100%|██████████████████████████████████████████████████████████████████████████████████████████████████████████████████████████████████████████████| 95/95 [00:22<00:00,  2.28it/s]\n",
      "\n",
      "epoch 8 took 22.1004 seconds\n",
      "\n",
      "100%|██████████████████████████████████████████████████████████████████████████████████████████████████████████████████████████████████████████████| 95/95 [00:22<00:00,  2.29it/s]\n",
      "\n",
      "Quitting after of no update of the best score on dev set 3\n",
      "\n",
      "Training took: 249.8514 seconds\n",
      "\n",
      "Running trec_eval script...\n",
      "\n",
      "map            \tall\t0.7325\n",
      "\n",
      "recip_rank     \tall\t0.8018\n",
      "\n",
      "AppledeMacBook-Pro-3:deep-qa-master hy$ \n",
      "\n"
     ]
    }
   ],
   "source": [
    "input_file = open('Train-1.txt','r')\n",
    "out = open(\"out.txt\",'w')\n",
    "for line in input_file:\n",
    "    print(line)\n",
    "    out.write(line)\n",
    "out.close()\n",
    "input_file.close()\n",
    "    "
   ]
  },
  {
   "cell_type": "code",
   "execution_count": 12,
   "metadata": {},
   "outputs": [],
   "source": [
    "with open('out.txt') as f:\n",
    "    for line in f:\n",
    "        print(line)\n",
    "    "
   ]
  },
  {
   "cell_type": "code",
   "execution_count": 16,
   "metadata": {},
   "outputs": [
    {
     "name": "stderr",
     "output_type": "stream",
     "text": [
      "E\n",
      "======================================================================\n",
      "ERROR: /Users/hy/Library/Jupyter/runtime/kernel-b586fa1f-cda0-4298-9429-a4c7542b45ba (unittest.loader._FailedTest)\n",
      "----------------------------------------------------------------------\n",
      "AttributeError: module '__main__' has no attribute '/Users/hy/Library/Jupyter/runtime/kernel-b586fa1f-cda0-4298-9429-a4c7542b45ba'\n",
      "\n",
      "----------------------------------------------------------------------\n",
      "Ran 1 test in 0.001s\n",
      "\n",
      "FAILED (errors=1)\n"
     ]
    },
    {
     "ename": "SystemExit",
     "evalue": "True",
     "output_type": "error",
     "traceback": [
      "An exception has occurred, use %tb to see the full traceback.\n",
      "\u001b[0;31mSystemExit\u001b[0m\u001b[0;31m:\u001b[0m True\n"
     ]
    },
    {
     "name": "stderr",
     "output_type": "stream",
     "text": [
      "/Users/hy/anaconda3/lib/python3.6/site-packages/IPython/core/interactiveshell.py:2971: UserWarning: To exit: use 'exit', 'quit', or Ctrl-D.\n",
      "  warn(\"To exit: use 'exit', 'quit', or Ctrl-D.\", stacklevel=1)\n"
     ]
    }
   ],
   "source": [
    "import unittest\n",
    "\n",
    "def fun(x):\n",
    "    return None if x is None else x+1\n",
    "class MyTest(unittest.TestCase):\n",
    "    def test1(self):\n",
    "        self.assertEqual(fun(None),None)\n",
    "    def test2(self):\n",
    "        self.assertEqual(fun(3),4)\n",
    "    def test3(self):\n",
    "        self.assertTrue(fun(0)==1)\n",
    "    def test3(self):\n",
    "        self.assertIn(len('123'),[2,3])\n",
    "        \n",
    "if __name__ == '__main__':\n",
    "    unittest.main()"
   ]
  },
  {
   "cell_type": "code",
   "execution_count": 18,
   "metadata": {},
   "outputs": [],
   "source": [
    "import doctest\n",
    "def square(x):\n",
    "    \"\"\"\n",
    "    >>> square(2)\n",
    "    4\n",
    "    >>> square(-2)\n",
    "    4\n",
    "    \"\"\"\n",
    "    return x*x\n",
    "\n",
    "if __name__ == '__main__':\n",
    "    doctest.testmod()\n",
    "    "
   ]
  },
  {
   "cell_type": "markdown",
   "metadata": {},
   "source": [
    "Python Class"
   ]
  },
  {
   "cell_type": "markdown",
   "metadata": {},
   "source": [
    "## 2017 quiz"
   ]
  },
  {
   "cell_type": "code",
   "execution_count": 1,
   "metadata": {},
   "outputs": [
    {
     "data": {
      "text/plain": [
       "'a'"
      ]
     },
     "execution_count": 1,
     "metadata": {},
     "output_type": "execute_result"
    }
   ],
   "source": [
    "\"a-short-string\"[0][0]   ## True no error"
   ]
  },
  {
   "cell_type": "code",
   "execution_count": 2,
   "metadata": {},
   "outputs": [
    {
     "ename": "TypeError",
     "evalue": "'set' object does not support indexing",
     "output_type": "error",
     "traceback": [
      "\u001b[0;31m---------------------------------------------------------------------------\u001b[0m",
      "\u001b[0;31mTypeError\u001b[0m                                 Traceback (most recent call last)",
      "\u001b[0;32m<ipython-input-2-5bba68abcc59>\u001b[0m in \u001b[0;36m<module>\u001b[0;34m()\u001b[0m\n\u001b[1;32m      1\u001b[0m \u001b[0mnumbers\u001b[0m \u001b[0;34m=\u001b[0m \u001b[0;34m{\u001b[0m\u001b[0;36m1\u001b[0m\u001b[0;34m,\u001b[0m\u001b[0;36m3\u001b[0m\u001b[0;34m,\u001b[0m\u001b[0;36m43\u001b[0m\u001b[0;34m,\u001b[0m\u001b[0;36m5\u001b[0m\u001b[0;34m,\u001b[0m\u001b[0;36m34\u001b[0m\u001b[0;34m}\u001b[0m\u001b[0;34m\u001b[0m\u001b[0m\n\u001b[0;32m----> 2\u001b[0;31m \u001b[0mnumbers\u001b[0m\u001b[0;34m[\u001b[0m\u001b[0;36m0\u001b[0m\u001b[0;34m]\u001b[0m\u001b[0;34m\u001b[0m\u001b[0m\n\u001b[0m",
      "\u001b[0;31mTypeError\u001b[0m: 'set' object does not support indexing"
     ]
    }
   ],
   "source": [
    "numbers = {1,3,43,5,34}\n",
    "numbers[0]  ## error"
   ]
  },
  {
   "cell_type": "code",
   "execution_count": 5,
   "metadata": {},
   "outputs": [
    {
     "data": {
      "text/plain": [
       "dict_keys([0, 1, 2, 3, 4, 5, 6, 7, 8, 9])"
      ]
     },
     "execution_count": 5,
     "metadata": {},
     "output_type": "execute_result"
    }
   ],
   "source": [
    "some_numbers = {n: True for n in range(10)}\n",
    "some_numbers\n",
    "some_numbers.keys()"
   ]
  },
  {
   "cell_type": "code",
   "execution_count": 6,
   "metadata": {},
   "outputs": [
    {
     "ename": "TypeError",
     "evalue": "'str' object does not support item assignment",
     "output_type": "error",
     "traceback": [
      "\u001b[0;31m---------------------------------------------------------------------------\u001b[0m",
      "\u001b[0;31mTypeError\u001b[0m                                 Traceback (most recent call last)",
      "\u001b[0;32m<ipython-input-6-0e656d31945f>\u001b[0m in \u001b[0;36m<module>\u001b[0;34m()\u001b[0m\n\u001b[0;32m----> 1\u001b[0;31m \u001b[0;34m'string'\u001b[0m\u001b[0;34m[\u001b[0m\u001b[0;36m0\u001b[0m\u001b[0;34m]\u001b[0m \u001b[0;34m=\u001b[0m \u001b[0;34m'a'\u001b[0m  \u001b[0;31m## error\u001b[0m\u001b[0;34m\u001b[0m\u001b[0m\n\u001b[0m",
      "\u001b[0;31mTypeError\u001b[0m: 'str' object does not support item assignment"
     ]
    }
   ],
   "source": [
    "'string'[0] = 'a'  ## error"
   ]
  },
  {
   "cell_type": "code",
   "execution_count": 8,
   "metadata": {},
   "outputs": [
    {
     "data": {
      "text/plain": [
       "'atring'"
      ]
     },
     "execution_count": 8,
     "metadata": {},
     "output_type": "execute_result"
    }
   ],
   "source": [
    "s = 'string'\n",
    "s.replace('s','a')"
   ]
  },
  {
   "cell_type": "code",
   "execution_count": 9,
   "metadata": {},
   "outputs": [
    {
     "ename": "AttributeError",
     "evalue": "'list' object has no attribute 'replace'",
     "output_type": "error",
     "traceback": [
      "\u001b[0;31m---------------------------------------------------------------------------\u001b[0m",
      "\u001b[0;31mAttributeError\u001b[0m                            Traceback (most recent call last)",
      "\u001b[0;32m<ipython-input-9-1fce71d5c39d>\u001b[0m in \u001b[0;36m<module>\u001b[0;34m()\u001b[0m\n\u001b[1;32m      1\u001b[0m \u001b[0ml\u001b[0m \u001b[0;34m=\u001b[0m \u001b[0;34m[\u001b[0m\u001b[0;36m1\u001b[0m\u001b[0;34m,\u001b[0m\u001b[0;36m2\u001b[0m\u001b[0;34m,\u001b[0m\u001b[0;36m3\u001b[0m\u001b[0;34m,\u001b[0m\u001b[0;36m4\u001b[0m\u001b[0;34m,\u001b[0m\u001b[0;36m1\u001b[0m\u001b[0;34m]\u001b[0m\u001b[0;34m\u001b[0m\u001b[0m\n\u001b[0;32m----> 2\u001b[0;31m \u001b[0ml\u001b[0m\u001b[0;34m.\u001b[0m\u001b[0mreplace\u001b[0m\u001b[0;34m(\u001b[0m\u001b[0;36m1\u001b[0m\u001b[0;34m,\u001b[0m\u001b[0;36m5\u001b[0m\u001b[0;34m)\u001b[0m\u001b[0;34m\u001b[0m\u001b[0m\n\u001b[0m",
      "\u001b[0;31mAttributeError\u001b[0m: 'list' object has no attribute 'replace'"
     ]
    }
   ],
   "source": [
    "l = [1,2,3,4,1]\n",
    "l.replace(1,5)"
   ]
  },
  {
   "cell_type": "code",
   "execution_count": 10,
   "metadata": {},
   "outputs": [
    {
     "ename": "TypeError",
     "evalue": "count() takes at least 1 argument (0 given)",
     "output_type": "error",
     "traceback": [
      "\u001b[0;31m---------------------------------------------------------------------------\u001b[0m",
      "\u001b[0;31mTypeError\u001b[0m                                 Traceback (most recent call last)",
      "\u001b[0;32m<ipython-input-10-1ae53800a553>\u001b[0m in \u001b[0;36m<module>\u001b[0;34m()\u001b[0m\n\u001b[0;32m----> 1\u001b[0;31m \u001b[0ms\u001b[0m\u001b[0;34m.\u001b[0m\u001b[0mcount\u001b[0m\u001b[0;34m(\u001b[0m\u001b[0;34m)\u001b[0m\u001b[0;34m\u001b[0m\u001b[0m\n\u001b[0m",
      "\u001b[0;31mTypeError\u001b[0m: count() takes at least 1 argument (0 given)"
     ]
    }
   ],
   "source": [
    "s.count()"
   ]
  },
  {
   "cell_type": "code",
   "execution_count": 11,
   "metadata": {},
   "outputs": [
    {
     "ename": "NameError",
     "evalue": "name 'count' is not defined",
     "output_type": "error",
     "traceback": [
      "\u001b[0;31m---------------------------------------------------------------------------\u001b[0m",
      "\u001b[0;31mNameError\u001b[0m                                 Traceback (most recent call last)",
      "\u001b[0;32m<ipython-input-11-6078696d92ae>\u001b[0m in \u001b[0;36m<module>\u001b[0;34m()\u001b[0m\n\u001b[0;32m----> 1\u001b[0;31m \u001b[0mcount\u001b[0m\u001b[0;34m(\u001b[0m\u001b[0ms\u001b[0m\u001b[0;34m)\u001b[0m\u001b[0;34m\u001b[0m\u001b[0m\n\u001b[0m",
      "\u001b[0;31mNameError\u001b[0m: name 'count' is not defined"
     ]
    }
   ],
   "source": [
    "count(s)"
   ]
  },
  {
   "cell_type": "code",
   "execution_count": 12,
   "metadata": {},
   "outputs": [
    {
     "ename": "TypeError",
     "evalue": "count() takes exactly one argument (0 given)",
     "output_type": "error",
     "traceback": [
      "\u001b[0;31m---------------------------------------------------------------------------\u001b[0m",
      "\u001b[0;31mTypeError\u001b[0m                                 Traceback (most recent call last)",
      "\u001b[0;32m<ipython-input-12-6553929acbc3>\u001b[0m in \u001b[0;36m<module>\u001b[0;34m()\u001b[0m\n\u001b[0;32m----> 1\u001b[0;31m \u001b[0ml\u001b[0m\u001b[0;34m.\u001b[0m\u001b[0mcount\u001b[0m\u001b[0;34m(\u001b[0m\u001b[0;34m)\u001b[0m\u001b[0;34m\u001b[0m\u001b[0m\n\u001b[0m",
      "\u001b[0;31mTypeError\u001b[0m: count() takes exactly one argument (0 given)"
     ]
    }
   ],
   "source": [
    "l.count()"
   ]
  },
  {
   "cell_type": "code",
   "execution_count": 13,
   "metadata": {},
   "outputs": [
    {
     "ename": "NameError",
     "evalue": "name 'count' is not defined",
     "output_type": "error",
     "traceback": [
      "\u001b[0;31m---------------------------------------------------------------------------\u001b[0m",
      "\u001b[0;31mNameError\u001b[0m                                 Traceback (most recent call last)",
      "\u001b[0;32m<ipython-input-13-1990c5494591>\u001b[0m in \u001b[0;36m<module>\u001b[0;34m()\u001b[0m\n\u001b[0;32m----> 1\u001b[0;31m \u001b[0mcount\u001b[0m\u001b[0;34m(\u001b[0m\u001b[0ml\u001b[0m\u001b[0;34m)\u001b[0m\u001b[0;34m\u001b[0m\u001b[0m\n\u001b[0m",
      "\u001b[0;31mNameError\u001b[0m: name 'count' is not defined"
     ]
    }
   ],
   "source": [
    "count(l)"
   ]
  },
  {
   "cell_type": "code",
   "execution_count": 14,
   "metadata": {},
   "outputs": [
    {
     "data": {
      "text/plain": [
       "2"
      ]
     },
     "execution_count": 14,
     "metadata": {},
     "output_type": "execute_result"
    }
   ],
   "source": [
    "l.count(1)"
   ]
  },
  {
   "cell_type": "code",
   "execution_count": 15,
   "metadata": {},
   "outputs": [
    {
     "data": {
      "text/plain": [
       "0"
      ]
     },
     "execution_count": 15,
     "metadata": {},
     "output_type": "execute_result"
    }
   ],
   "source": [
    "s.count('2')"
   ]
  },
  {
   "cell_type": "code",
   "execution_count": 16,
   "metadata": {},
   "outputs": [
    {
     "data": {
      "text/plain": [
       "[<function len(obj, /)>, range(1, 3)]"
      ]
     },
     "execution_count": 16,
     "metadata": {},
     "output_type": "execute_result"
    }
   ],
   "source": [
    "[len, range(1,3)]"
   ]
  },
  {
   "cell_type": "code",
   "execution_count": 18,
   "metadata": {},
   "outputs": [
    {
     "data": {
      "text/plain": [
       "nltk.text.Text"
      ]
     },
     "execution_count": 18,
     "metadata": {},
     "output_type": "execute_result"
    }
   ],
   "source": [
    "import nltk\n",
    "nltk.Text"
   ]
  },
  {
   "cell_type": "code",
   "execution_count": null,
   "metadata": {},
   "outputs": [],
   "source": []
  }
 ],
 "metadata": {
  "kernelspec": {
   "display_name": "Python 3",
   "language": "python",
   "name": "python3"
  },
  "language_info": {
   "codemirror_mode": {
    "name": "ipython",
    "version": 3
   },
   "file_extension": ".py",
   "mimetype": "text/x-python",
   "name": "python",
   "nbconvert_exporter": "python",
   "pygments_lexer": "ipython3",
   "version": "3.6.5"
  }
 },
 "nbformat": 4,
 "nbformat_minor": 2
}
